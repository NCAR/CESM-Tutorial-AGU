{
 "cells": [
  {
   "cell_type": "markdown",
   "id": "06bee71b-550e-4e63-8657-8c6259567489",
   "metadata": {},
   "source": [
    "# create_newcase"
   ]
  },
  {
   "cell_type": "markdown",
   "id": "7c54ae6f-3102-4bd4-a88f-af08acd7395f",
   "metadata": {
    "tags": []
   },
   "source": [
    "## The `create_newcase` command\n",
    "\n",
    "The figure below shows you the 4 commands along with the CESM directory structure (before you run the model). On the figure, you can see the location of the command `create newcase` that is used to set up a new case. \n",
    "\n",
    "---\n",
    "![create_newcase](../../images/cesm_structure_before_create_newcase.png)\n",
    "*<p style=\"text-align: center;\"> Figure: CESM structure and the create_newcase commands</p>*\n",
    "\n",
    "---\n",
    "\n",
    "The `create_newcase` command is located in `$CESMROOT/cime/scripts`\n",
    "\n",
    "You can go to that directory using the command:\n",
    "```\n",
    "cd $CESMROOT/cime/scripts\n",
    "```\n",
    "\n",
    "\n",
    "This command has three required inputs and other optional inputs. The required inputs are\n",
    "- case: the name and directory path of your case e.g., setting case to ∼/cases/case01 will make a\n",
    "simulation called case01 and it will be located in ∼/cases\n",
    "- compset: the CESM component set that you’d like to use. See\n",
    "http://www.cesm.ucar.edu/models/cesm2/config/compsets.html\n",
    "for a list of pre-defined compsets and\n",
    "https://esmci.github.io/cime/versions/master/html/users_guide/compsets.html\n",
    "for documentation on how to create your own. Note that here we will be using the compset ”B1850-\n",
    "tutorial” which has been specially developed for the purposes of this tutorial - it is not available\n",
    "within the CESM2 release.\n",
    "- res: the resolution that you’d like to use.\n",
    "\n",
    "In addition to the CESM web pages, you can find information on available compsets and resolutions using\n",
    "the “query config” tool located in $CESMROOT/cime/scripts e.g.,\n",
    "./query config --help\n",
    "will provide you with information on the arguments taken by query config and then e.g.,\n",
    "./query config --grids\n",
    "will list all the available grids. You can use this tool to find the arguments you want to provide to\n",
    "“create newcase”."
   ]
  },
  {
   "cell_type": "markdown",
   "id": "8d33e03e-434d-4182-80b5-cb33f7fa51fd",
   "metadata": {},
   "source": [
    "The syntax for the create_newcase command is:\n",
    "    \n",
    "---\n",
    "![create_newcase](../../images/create_newcase_syntax.png)\n",
    "*<p style=\"text-align: center;\"> Figure: Syntax for the `create_newcase` command</p>*\n",
    "\n",
    "---\n"
   ]
  },
  {
   "cell_type": "markdown",
   "id": "9adf2198-216e-40c5-b10a-aa94f38e1a31",
   "metadata": {},
   "source": [
    "## The `case.setup` command\n",
    "\n",
    "The figure below shows you the CESM directory structure before you run the model.\n",
    "\n",
    "---\n",
    "![create_newcase](../../images/cesm_structure_code_and_data.png)\n",
    "*<p style=\"text-align: center;\"> Figure: CESM code and input datasets</p>*\n",
    "\n",
    "---"
   ]
  },
  {
   "cell_type": "markdown",
   "id": "44560957-8531-4b55-9ad3-52c33efcf3b0",
   "metadata": {},
   "source": [
    "## The `case.build` command\n",
    "\n",
    "The figure below shows you the CESM directory structure before you run the model.\n",
    "\n",
    "---\n",
    "![create_newcase](../../images/cesm_structure_code_and_data.png)\n",
    "*<p style=\"text-align: center;\"> Figure: CESM code and input datasets</p>*\n",
    "\n",
    "---"
   ]
  },
  {
   "cell_type": "markdown",
   "id": "29c0e16b-1771-417d-893e-046d2782fa2d",
   "metadata": {},
   "source": [
    "## The `case.submit` command\n",
    "\n",
    "The figure below shows you the CESM directory structure before you run the model.\n",
    "\n",
    "---\n",
    "![create_newcase](../../images/cesm_structure_code_and_data.png)\n",
    "*<p style=\"text-align: center;\"> Figure: CESM code and input datasets</p>*\n",
    "\n",
    "---"
   ]
  },
  {
   "cell_type": "code",
   "execution_count": null,
   "id": "ac8ce9d0-0f4e-4764-97b5-e907d3b4e86f",
   "metadata": {},
   "outputs": [],
   "source": []
  }
 ],
 "metadata": {
  "kernelspec": {
   "display_name": "Python 3 (ipykernel)",
   "language": "python",
   "name": "python3"
  },
  "language_info": {
   "codemirror_mode": {
    "name": "ipython",
    "version": 3
   },
   "file_extension": ".py",
   "mimetype": "text/x-python",
   "name": "python",
   "nbconvert_exporter": "python",
   "pygments_lexer": "ipython3",
   "version": "3.9.12"
  }
 },
 "nbformat": 4,
 "nbformat_minor": 5
}
