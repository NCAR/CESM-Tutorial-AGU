{
 "cells": [
  {
   "cell_type": "markdown",
   "id": "f406f992-92bd-4b17-9bd3-b99c5c8abaf3",
   "metadata": {},
   "source": [
    "# Getting Help"
   ]
  },
  {
   "cell_type": "markdown",
   "id": "c0c604b9-565b-4b87-a18a-20c9e3f688b2",
   "metadata": {},
   "source": [
    "## Documentation \n",
    "\n",
    "CESM is extensively documented.  If you're having trouble or confusions over setting up your CESM simulations, you may find the answer in the documentation.  Here are a few useful links:\n",
    "\n",
    "* CESM2 main page: https://www.cesm.ucar.edu/models/cesm2\n",
    "\n",
    "* CIME users guide http://esmci.github.io/cime/versions/master/html/index.html\n",
    "\n",
    "* Information on namelist parameters: https://docs.cesm.ucar.edu/models/cesm2/settings/current/\n",
    "\n",
    "* Information on XML parameters: https://docs.cesm.ucar.edu/models/cesm2/settings/current/drv_input.html\n",
    "\n",
    "There are also users guides for each individual CESM component:\n",
    "\n",
    "* CAM6: https://www.cesm.ucar.edu/models/cesm2/atmosphere\n",
    "* CLM5: https://www.cesm.ucar.edu/models/cesm2/land\n",
    "* POP2: https://www.cesm.ucar.edu/models/cesm2/ocean\n",
    "* CISM: https://www.cesm.ucar.edu/models/cesm2/land-ice\n",
    "* CICE: https://www.cesm.ucar.edu/models/cesm2/sea-ice\n",
    "* River Runoff model: https://www.cesm.ucar.edu/models/cesm2/river\n",
    "* Wave model: https://www.cesm.ucar.edu/models/cesm2/wave"
   ]
  },
  {
   "cell_type": "markdown",
   "id": "9eae05d0-5c65-48f7-93e8-ee30b746c211",
   "metadata": {},
   "source": [
    "## The CESM Forum\n",
    "\n",
    "If you can't find the answer you're looking for, then you can post your question to the CESM forum, where CESM developers and users will have the opportunity to answer your question.  If you know the answers to other peoples questions you can answer them here too!\n",
    "\n",
    "* CESM forum: https://bb.cgd.ucar.edu/cesm/"
   ]
  },
  {
   "cell_type": "code",
   "execution_count": null,
   "id": "8dae7244-9e74-479a-a7bc-8622434412ad",
   "metadata": {},
   "outputs": [],
   "source": []
  }
 ],
 "metadata": {
  "kernelspec": {
   "display_name": "Python 3 (ipykernel)",
   "language": "python",
   "name": "python3"
  },
  "language_info": {
   "codemirror_mode": {
    "name": "ipython",
    "version": 3
   },
   "file_extension": ".py",
   "mimetype": "text/x-python",
   "name": "python",
   "nbconvert_exporter": "python",
   "pygments_lexer": "ipython3",
   "version": "3.9.7"
  }
 },
 "nbformat": 4,
 "nbformat_minor": 5
}
