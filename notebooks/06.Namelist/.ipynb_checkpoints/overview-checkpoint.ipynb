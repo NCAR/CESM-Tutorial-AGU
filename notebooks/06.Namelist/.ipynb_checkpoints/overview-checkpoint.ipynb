{
 "cells": [
  {
   "cell_type": "markdown",
   "id": "f5e23fcc-d36b-4ca2-a596-9fb3c88c82e8",
   "metadata": {
    "tags": []
   },
   "source": [
    "# Overview \n",
    "\n",
    "There are a number of ways that the model can be modified via namelist settings. \n",
    "\n",
    "The **namelist variables** include settings to control the model output, tune the model for various quantities, and many other options. For instance, the *output frequency* in the different CESM components can be controlled via the namelists. \n",
    "\n",
    "<hr style=\"border: 1px solid black;\">\n",
    "\n",
    "## Steps to modify the namelists\n",
    "\n",
    "<div class=\"alert alert-info\" style=\"text-align: left;\">\n",
    "\n",
    "The **steps** to modify the **namelists** are:\n",
    "\n",
    "Referring to your case directory as `$CASEROOT`, \n",
    "- edit the `user_nl_xxx` files in `$CASEROOT`.\n",
    "- generate the namelists by running `./preview_namelists`. \n",
    "  \n",
    "  \n",
    "This results in the creation of component namelists, the `*_in` files (i.e. `atm_in`, `lnd_in`, and so on). \n",
    "\n",
    "The `*_in` files are located  in `$CASEROOT/CaseDocs/` and in your run directory.\n",
    "  \n",
    "</div>\n",
    "\n",
    "<hr style=\"border: 1px solid black;\">\n"
   ]
  },
  {
   "cell_type": "markdown",
   "id": "301171cd-e6da-4574-ab96-02d82d5fc95f",
   "metadata": {},
   "source": [
    "\n",
    "## Location of the namelist files\n",
    "An overview of the CESM directories and the location of the namelist files is showed in *Figure 1*. It shows where to modify the namelists and where not to.\n",
    "\n",
    "- The command `case.setup` creates the files `user_nl_*`. This is where you modify the namelists. \n",
    "- The ``*_in`` files **should not be directly edited**. Any manual changes of the ``*_in`` files will be overwritten when you compile or submit the run. \n",
    "\n",
    "![CESM directories and namelists](../../images/cesm_structure_namelist_files.png)\n",
    "<p style=\"text-align: center;\"> Figure 1: Overview of the CESM directories and the namelist files. </p>\n",
    "\n",
    "Note that you cannot change the namelist variables: \n",
    "- after the run is submitted \n",
    "- or when `CONTINUE_RUN=TRUE`. "
   ]
  },
  {
   "cell_type": "markdown",
   "id": "f0a5cc0d-f3cf-4508-9751-ff6866fa3f20",
   "metadata": {},
   "source": [
    "\n",
    "\n",
    "<hr style=\"border: 1px solid black;\">\n",
    "\n",
    "## The command `preview_namelists`\n",
    "\n",
    "When you do a namelist modification \n",
    "in `user_nl_*`, running the command `./preview_namelists` creates the files  `*_in` in the directories `CaseDocs` within your case directory and your run directory `run`. The result of the command `preview_namelists` is illustrated in *Figure 2*. \n",
    "\n",
    "Note that step `./preview_namelists` is **optional** as the script *preview_namelists* is also called when you build the model. \n",
    "\n",
    "\n",
    "![CESM directories and namelists](../../images/cesm_structure_preview_namelists.png)\n",
    "<p style=\"text-align: center;\"> Figure 2: Result of preview_namelists. </p>\n"
   ]
  },
  {
   "cell_type": "code",
   "execution_count": null,
   "id": "be9c83c4-b0a6-4e3e-89f9-e8d695c13d5b",
   "metadata": {},
   "outputs": [],
   "source": []
  }
 ],
 "metadata": {
  "kernelspec": {
   "display_name": "Python 3 (ipykernel)",
   "language": "python",
   "name": "python3"
  },
  "language_info": {
   "codemirror_mode": {
    "name": "ipython",
    "version": 3
   },
   "file_extension": ".py",
   "mimetype": "text/x-python",
   "name": "python",
   "nbconvert_exporter": "python",
   "pygments_lexer": "ipython3",
   "version": "3.9.12"
  }
 },
 "nbformat": 4,
 "nbformat_minor": 5
}
