{
 "cells": [
  {
   "cell_type": "markdown",
   "id": "f406f992-92bd-4b17-9bd3-b99c5c8abaf3",
   "metadata": {},
   "source": [
    "# Exercise 2"
   ]
  },
  {
   "cell_type": "markdown",
   "id": "b90d4773-7ca0-4131-ab07-517608a3e976",
   "metadata": {},
   "source": [
    "\n",
    "<div class=\"alert alert-info\">\n",
    "    \n",
    "<strong>Exercise: Working out the optimum segment length</strong>\n",
    "    \n",
    "Consider a simulation with a **Model Cost**  of 11 simulated years per day. \n",
    "    \n",
    "If your goal is to run a 30 year simulation with each segment having an integer number of years  and you have a 12 hour wall clock limit on your machine's queue, what values of `STOP OPTION`, `STOP N` and `RESUBMIT` would you select to minimize the number of individual resubmissions?\n",
    "   \n",
    "Note: For simplicity, we aim for each run to have a duration that is a whole number of years.\n",
    "</div>\n"
   ]
  },
  {
   "cell_type": "markdown",
   "id": "65b2cbda-2d54-48ee-898b-4c391f16ca79",
   "metadata": {},
   "source": [
    "\n",
    "<div class=\"alert alert-warning\">  \n",
    "<details>\n",
    "\n",
    "<summary> <font face=\"Times New Roman\" color='blue'>Click here for hints</font> </summary><br>\n",
    "\n",
    "- Use the Model Cost to determine `STOP_N` and `STOP_OPTION` for each submission, taking into account the wall clock limit.\n",
    "\n",
    "- Next, calculate how many times you need to resubmit the job to reach the 30-year goal.\n",
    "\n",
    "- Then, set `RESUBMIT` using \n",
    "`The total number of submissions = the initial submission + the number of resubmissions.`    \n",
    "</details>\n",
    "</div>\n"
   ]
  },
  {
   "cell_type": "markdown",
   "id": "7dd602b7-372d-4f36-b6d1-df8e22ba1646",
   "metadata": {},
   "source": [
    "\n",
    "<div class=\"alert alert-success\">   \n",
    "<details>\n",
    "<summary><font face=\"Times New Roman\" color='blue'>Click here for the solution</font></summary><br>\n",
    " \n",
    "Suppose that you are aiming for a 30-year simulation and you find in the timing files that that your model throughput is 11 simulated years per day. If your wallclock limit is 12-hour, it means you can run roughly 5.5 years per submission. \n",
    "    \n",
    "However, it’s advisable to run a little less than what might appear optimum from this run because\n",
    "the exact throughput can vary. Additionally, it's best to run an integer number of years if possible.\n",
    "    \n",
    "You can probably safely run 5 years within a 12-hour wall clock limit. So, you can set: \n",
    "\n",
    "`STOP OPTION=nyears` \\\n",
    "`STOP N=5`\n",
    "    \n",
    "Since you want to run 30 years, that means you need to submit the run 6 times\n",
    "(5 years x 6 = 30 years). \n",
    "    \n",
    "As \"the total number of submissions = the initial submission + the number of resubmissions\",\n",
    "that means that you need 5 re-submissions after your first one. So you would set:\n",
    "\n",
    "`RESUBMIT=5`    \n",
    "\n",
    "This is illustrated in Figure 1.  \n",
    "![timing](../../images/resubmissions.png)\n",
    "*<p style=\"text-align: center;\"> Figure 1: Number of submissions</p>*\n",
    "    \n",
    "    \n",
    "This can be achieved with\n",
    "```\n",
    "./xmlchange STOP OPTION=nyears,STOP N=5,RESUBMIT=5\n",
    "```  \n",
    "    \n",
    "\n",
    "\n",
    "</details>\n",
    "</div>\n",
    "\n"
   ]
  },
  {
   "cell_type": "code",
   "execution_count": null,
   "id": "815be0bc-515a-474b-a3dd-b7ba02831b9a",
   "metadata": {},
   "outputs": [],
   "source": []
  }
 ],
 "metadata": {
  "kernelspec": {
   "display_name": "Python 3 (ipykernel)",
   "language": "python",
   "name": "python3"
  },
  "language_info": {
   "codemirror_mode": {
    "name": "ipython",
    "version": 3
   },
   "file_extension": ".py",
   "mimetype": "text/x-python",
   "name": "python",
   "nbconvert_exporter": "python",
   "pygments_lexer": "ipython3",
   "version": "3.9.12"
  }
 },
 "nbformat": 4,
 "nbformat_minor": 5
}
