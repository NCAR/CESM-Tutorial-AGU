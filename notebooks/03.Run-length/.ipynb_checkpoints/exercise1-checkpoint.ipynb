{
 "cells": [
  {
   "cell_type": "markdown",
   "id": "f406f992-92bd-4b17-9bd3-b99c5c8abaf3",
   "metadata": {},
   "source": [
    "# Exercise 1\n",
    "\n",
    "## Extending your simulation for an additional month"
   ]
  },
  {
   "cell_type": "markdown",
   "id": "a1fe1973-d508-4dc8-9f79-aea8973123b5",
   "metadata": {},
   "source": [
    "In this exercise you'll continue your previous simulation (case01) for an additional month (Figure 1).\n",
    "\n",
    "\n",
    "![xmlfiles](../../images/exercise2_caseextension.png)\n",
    "*<p style=\"text-align: center;\"> Figure 1: An illustration of the extension of case01.  This case initially ran for 5 days from January 1st to January 5th.  Now we will extend this for an additional month to February 5th.</p>*\n"
   ]
  },
  {
   "cell_type": "markdown",
   "id": "b90d4773-7ca0-4131-ab07-517608a3e976",
   "metadata": {},
   "source": [
    "\n",
    "<div class=\"alert alert-info\">\n",
    "    \n",
    "<strong>Exercise: Extend case01 for one more month</strong>\n",
    "    \n",
    "Use the `xmlchange` command to change the variables `CONTINUE_RUN`, `STOP_OPTION`, and `STOP_N` to configure case01 to run for an additional month.\n",
    "    \n",
    "Submit your simulation to run for an additional month.\n",
    "   \n",
    "</div>\n",
    "\n",
    "\n",
    "*Note tha we performed the initial 5 day run and then resubmitted it for another month for demonstration purposes here.  In practise, if you are outputting monthly data, you would really want to run continuously for an integer number of months.  Otherwise, the monthly averages for the sea ice model will not be accurate.  In this case the January history file output for the sea ice model will actually be the average fro"
   ]
  },
  {
   "cell_type": "markdown",
   "id": "65b2cbda-2d54-48ee-898b-4c391f16ca79",
   "metadata": {},
   "source": [
    "\n",
    "<div class=\"alert alert-warning\">  \n",
    "<details>\n",
    "\n",
    "<summary> <font face=\"Times New Roman\" color='blue'>Click here for hints</font> </summary><br>\n",
    "\n",
    "Go into your case directory `~/cases/case01`.\n",
    "    \n",
    "You can see what `STOP_N`, `STOP_OPTION` and `CONTINUE_RUN` are currently set to by using the following command\n",
    "    \n",
    "```\n",
    "./xmlquery STOP_N, STOP_OPTION, CONTINUE_RUN\n",
    "```\n",
    "    \n",
    "You should find that \n",
    "- `STOP_N=5`\n",
    "- `STOP_OPTION=ndays`\n",
    "- `CONTINUE_RUN=False`\n",
    "    \n",
    "We can set the length of the next segment to be one month by\n",
    "    \n",
    "```\n",
    "./xmlchange STOP_OPTION=nmonths,STOP_N=1\n",
    "```\n",
    "    \n",
    "In addition, we'll need to ensure that we are continuing on from our first 5 day segment, rather than starting a new initial run.  This is achieved by setting `CONTINUE_RUN` to True\n",
    "    \n",
    "```\n",
    "./xmlchange CONTINUE_RUN=True\n",
    "```\n",
    "    \n",
    "After running the above two commands, you can check the values of these parameters by \n",
    "    \n",
    "```\n",
    "./xmquery STOP_N, STOP_OPTION, CONTINUE_RUN\n",
    "```\n",
    "    \n",
    "You should find that\n",
    "    \n",
    "- `STOP_N=1`\n",
    "- `STOP_OPTION=nmonths`\n",
    "- `CONTINUE_RUN=True`\n",
    "    \n",
    "In order to perform a continuation of the run, you will also need all the necessary restart files in your run directory.  They are already thee for the run we just performed, but, if that wasn't the case, you'd need to copyall the contents of the restart directory in your archive into your run directory i.e., you'd need to copy the contents of \n",
    "    \n",
    "`~/scratch/archive/case01/rest/0001-01-06-00000`\n",
    "    \n",
    "into \n",
    "    \n",
    "`~/scratch/case01/run/`\n",
    "    \n",
    "Now you can submit your run again by \n",
    "    \n",
    "`./case.submit`\n",
    "    \n",
    "*Note that you don't have to set-up or re-build the run when performing a continuation like this*\n",
    "    \n",
    "You can check that your simulation is running in the queue again by\n",
    "    \n",
    "`squeue -u <username>` or `qstat -u <username>`\n",
    "    \n",
    "where `<username>` is replaced by whatever your user name is.\n",
    "\n",
    "</details>   \n",
    "</div>\n"
   ]
  },
  {
   "cell_type": "markdown",
   "id": "7dd602b7-372d-4f36-b6d1-df8e22ba1646",
   "metadata": {},
   "source": [
    "\n",
    "<div class=\"alert alert-success\">   \n",
    "<details>\n",
    "<summary><font face=\"Times New Roman\" color='blue'>Click here for the solution</font></summary><br>\n",
    " \n",
    "You can extend `case01` using the following\n",
    "    \n",
    "```\n",
    "cd ~/cases/case01\n",
    "./xmlchange STOP_N=1,STOP_OPTION=nmonths,CONTINUE_RUN=True\n",
    "./case.submit\n",
    "```\n",
    "    \n",
    "</details>\n",
    "</div>\n",
    "\n"
   ]
  },
  {
   "cell_type": "code",
   "execution_count": null,
   "id": "815be0bc-515a-474b-a3dd-b7ba02831b9a",
   "metadata": {},
   "outputs": [],
   "source": []
  }
 ],
 "metadata": {
  "kernelspec": {
   "display_name": "Python 3 (ipykernel)",
   "language": "python",
   "name": "python3"
  },
  "language_info": {
   "codemirror_mode": {
    "name": "ipython",
    "version": 3
   },
   "file_extension": ".py",
   "mimetype": "text/x-python",
   "name": "python",
   "nbconvert_exporter": "python",
   "pygments_lexer": "ipython3",
   "version": "3.9.12"
  }
 },
 "nbformat": 4,
 "nbformat_minor": 5
}
