{
 "cells": [
  {
   "cell_type": "markdown",
   "id": "f406f992-92bd-4b17-9bd3-b99c5c8abaf3",
   "metadata": {},
   "source": [
    "# Extending a simulation"
   ]
  },
  {
   "cell_type": "markdown",
   "id": "4990389a-5290-40ad-875a-925994670143",
   "metadata": {},
   "source": [
    "<hr style=\"border: 1px solid black;\">\n",
    "\n",
    "## Restart files"
   ]
  },
  {
   "cell_type": "markdown",
   "id": "013c5dab-72da-4871-9caa-3c56ccda871f",
   "metadata": {},
   "source": [
    "Once a run segment has completed, the model generates a series of **restart files** and **rpointer files** that are stored in the run directory.  These files are also archives in the `rest` directory within the archive (Figure 1).  \n",
    "- The restart files contain all the information required for the model to keep on running from where it ended.  \n",
    "- The rpointer files tell the model which restart files to use.   \n",
    "\n",
    "![xmlfiles](../../images/cesm_structure_restarts.png)\n",
    "*<p style=\"text-align: center;\"> Figure 1: CESM structure and the restart files</p>*\n"
   ]
  },
  {
   "cell_type": "markdown",
   "id": "96935943-7732-40e2-bc4f-da406b21b8bd",
   "metadata": {},
   "source": [
    "<hr style=\"border: 1px solid black;\">\n",
    "\n",
    "## Continuing a simulation"
   ]
  },
  {
   "cell_type": "markdown",
   "id": "3adab54a-cd21-468e-b04e-21b84341ec9d",
   "metadata": {},
   "source": [
    "In most cases, the length of simulation that you can run within one submission will be shorter than what you actually want, so you will need to run several segments of shorter length. \n",
    "\n",
    "For instance, if you need to run a 200-year simulation, you will have to break into shorter simulations. For instance, 20 segments of 10 years. \n",
    "\n",
    "The two variables that can be used to control the overall length of your simulation are `CONTINUE_RUN` and `RESUBMIT`.  \n",
    "- `CONTINUE_RUN` controls whether the simulation is continuing from a previous segment or not.  When set to `True`, the simulation continues from a previous segment.  \n",
    "- `RESUBMIT` controls the number of resubmissions.\n",
    "\n",
    "If you want to continue the previous simulation for another individual segment you can run the following from the case directory\n",
    "\n",
    "```\n",
    "./xmlchange CONTINUE_RUN=True\n",
    "```\n",
    "\n",
    "If you then submit your case again by running `case.submit` from your case directory, this will use the restart files that exist in your run directory to continue the run where it left off for another segment of length `STOP_N`.  \n",
    "\n",
    "If you want to continue the previous simulation for multiple segments than you can also set `RESUBMIT` to the number of times you would like to resubmit the simulation.  This controls how many times you want to resubmit and run another segment of the simulation of length `STOP_N`.  For example, if you were to set `RESUBMIT=2` then when you submit the job to the queue it will first run one segment, then it will subsequently resubmit twice, running another length of `STOP_N` each time i.e., a total of three times `STOP_N`.\n",
    "\n",
    "If you set `RESUBMIT` to a non-zero value when you make your first submission, it will automatically set `CONTINUE_RUN=True` after the first segment."
   ]
  }
 ],
 "metadata": {
  "kernelspec": {
   "display_name": "Python 3 (ipykernel)",
   "language": "python",
   "name": "python3"
  },
  "language_info": {
   "codemirror_mode": {
    "name": "ipython",
    "version": 3
   },
   "file_extension": ".py",
   "mimetype": "text/x-python",
   "name": "python",
   "nbconvert_exporter": "python",
   "pygments_lexer": "ipython3",
   "version": "3.9.12"
  }
 },
 "nbformat": 4,
 "nbformat_minor": 5
}
