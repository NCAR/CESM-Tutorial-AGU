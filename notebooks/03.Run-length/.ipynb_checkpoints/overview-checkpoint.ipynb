{
 "cells": [
  {
   "cell_type": "markdown",
   "id": "f406f992-92bd-4b17-9bd3-b99c5c8abaf3",
   "metadata": {},
   "source": [
    "# Extending a simulation"
   ]
  },
  {
   "cell_type": "markdown",
   "id": "c0c604b9-565b-4b87-a18a-20c9e3f688b2",
   "metadata": {},
   "source": [
    "## Introduction to XML variables\n",
    "\n",
    "In this section, you will learn how to resubmit a run and how to change the run length.  Much of the control of the running of your CESM simulation is controlled by \"XML\" files.  XML stands for Extensible Markup Language.  The files that end in `.xml` in your case directory contain many variables that control the CESM simulation.  Figure 1 illustrates the various XML files that exist in the CESM case directory."
   ]
  },
  {
   "cell_type": "markdown",
   "id": "a39db5bf-ffec-428b-aa29-da0c6ec9dc06",
   "metadata": {},
   "source": [
    "---\n",
    "![xmlfiles](../../images/cesm_structure_xmlfileillustration.png)\n",
    "*<p style=\"text-align: center;\"> Figure 1: CESM structure and the xml files</p>*\n",
    "---"
   ]
  },
  {
   "cell_type": "markdown",
   "id": "6f0e357e-2dc6-4496-a621-c687b80a5ff8",
   "metadata": {},
   "source": [
    "The most commonly used XML variables are located in `env_run.xml`.  This file contains variables that are used to control the characteristics of your simulations, such as the run length or whether it is a start up run or the continuation of a run.  These variables can be changed using the `xmlchange` command, which has the advantage over editing this file directly, that the change is propagated to all the necessary locations."
   ]
  },
  {
   "cell_type": "markdown",
   "id": "3482ed1d-1003-4d79-a8ef-95155d216891",
   "metadata": {},
   "source": [
    "## Controlling the length of a submission using the XML variables"
   ]
  },
  {
   "cell_type": "markdown",
   "id": "648f02a8-d105-4aba-b2c0-7bca1f3b66f4",
   "metadata": {},
   "source": [
    "The length of a simulation that is performed within one submission is set in the `env_run.xml` file with the variables `STOP_N` and `STOP_OPTION`.  `STOP_OPTION` controls the units in which you are specifying the length of simulation and `STOP_N` is the length in those units.\n",
    "\n",
    "By default, the model is set to run for 5 days with\n",
    "\n",
    "`STOP_N = 5` \\\n",
    "`STOP_OPTION = ndays`\n",
    "\n",
    "You can query the default settings of these variables with the command `xmlquery` e.g.,\n",
    "\n",
    "`./xmlquery STOP_OPTION,STOP_N`\n",
    "\n",
    "will print out the values of `STOP_OPTION` and `STOP_N`.\n",
    "\n",
    "You can change the values of these parameters using the `xmlchange` command.  For example, suppose you want to increase the run length from 5 days to 1 month, you can use:\n",
    "\n",
    "`./xmlchange STOP_OPTION=nmonths,STOP_N=1`\n",
    "\n",
    "The variables `STOP_OPTION` and `STOP_N` control the length of one run segment.  Typically supercomputers have limits on how long you can run at once e.g., some may have a wallclock limit of 12 hours in real time, meaning that you can only run continuously for 12 hours.  In that case, you would want to set `STOP_OPTION` and `STOP_N` to an appropriate length that can be completed within 12 hours of real time.\n",
    "\n",
    "More information about the other variables in `env_run.xml` can be found at https://docs.cesm.ucar.edu/models/cesm2/settings/current/drv_input.html."
   ]
  },
  {
   "cell_type": "markdown",
   "id": "4990389a-5290-40ad-875a-925994670143",
   "metadata": {},
   "source": [
    "## Restart files"
   ]
  },
  {
   "cell_type": "markdown",
   "id": "013c5dab-72da-4871-9caa-3c56ccda871f",
   "metadata": {},
   "source": [
    "Once a run segment has completed, the model generates a series of \"restart\" files and \"rpointer\" files that are stored in the run directory.  These files are also archives in the `rest` directory within the archive (Figure 2).  The restart files contain all the information required for the model to keep on running from where it ended.  The rpointer files tell the model which restart files to use.   \n",
    "\n",
    "---\n",
    "![xmlfiles](../../images/cesm_structure_restarts.png)\n",
    "*<p style=\"text-align: center;\"> Figure 2: CESM structure and the restart files</p>*\n",
    "---\n"
   ]
  },
  {
   "cell_type": "markdown",
   "id": "96935943-7732-40e2-bc4f-da406b21b8bd",
   "metadata": {},
   "source": [
    "## Continuing a simulation"
   ]
  },
  {
   "cell_type": "markdown",
   "id": "3adab54a-cd21-468e-b04e-21b84341ec9d",
   "metadata": {},
   "source": [
    "In most cases, the length of simulation that you can run within one submission will be shorter than what you actually want, so you will need to run many segments of length `STOP_N`.\n",
    "\n",
    "The two variables that can be used to control the overall length of your simulation are `CONTINUE_RUN` and `RESUBMIT`.  `CONTINUE_RUN` controls whether the simulation is continuing from a previous segment or not.  When set to `True`, the simulation continues from a previous segment.  `RESUBMIT` controls the number of resubmissions.\n",
    "\n",
    "If you want to continue the previous simulation for another individual segment you can run the following from the case directory\n",
    "\n",
    "`./xmlchange CONTINUE_RUN=True`\n",
    "\n",
    "If you then submit your case again by running `case.submit` from your case directory, this will use the restart files that exist in your run directory to continue the run where it left off for another segment of length `STOP_N`.  \n",
    "\n",
    "If you want to continue the previous simulation for multiple segments than you can also set `RESUBMIT` to the number of times you would like to resubmit the simulation.  This controls how many times you want to resubmit and run another segment of the simulation of length `STOP_N`.  For example, if you were to set `RESUBMIT=2` then when you submit the job to the queue it will first run one segment, then it will subsequently resubmit twice, running another length of `STOP_N` each time i.e., a total of three times `STOP_N`.\n",
    "\n",
    "If you set `RESUBMIT` to a non-zero value when you make your first submission, it will automatically set `CONTINUE_RUN=True` after the first segment."
   ]
  },
  {
   "cell_type": "markdown",
   "id": "e6b96320-c49b-4bc8-aa67-090b206ceb9e",
   "metadata": {},
   "source": [
    "## Other XML variables"
   ]
  },
  {
   "cell_type": "markdown",
   "id": "b95a75b3-c1bc-48a9-a3a1-a1d339170e19",
   "metadata": {},
   "source": [
    "Continuing a simulation is one example of using XML variables to control your simulation.  You can find a listing of all the available XML variables along with their description by running the following commands from your case directory\n",
    "\n",
    "`./xmlquery --listall --description`\n",
    "\n",
    "or for all the variables in a specific file e.g., `env_run.xml`\n",
    "\n",
    "`./xmlquery --listall --file env_run.xml --description`\n",
    "\n",
    "You can find the same information on the CESM website at \n",
    "\n"
   ]
  }
 ],
 "metadata": {
  "kernelspec": {
   "display_name": "Python 3 (ipykernel)",
   "language": "python",
   "name": "python3"
  },
  "language_info": {
   "codemirror_mode": {
    "name": "ipython",
    "version": 3
   },
   "file_extension": ".py",
   "mimetype": "text/x-python",
   "name": "python",
   "nbconvert_exporter": "python",
   "pygments_lexer": "ipython3",
   "version": "3.9.7"
  }
 },
 "nbformat": 4,
 "nbformat_minor": 5
}
