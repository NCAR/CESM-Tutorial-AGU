{
 "cells": [
  {
   "cell_type": "markdown",
   "id": "3482ed1d-1003-4d79-a8ef-95155d216891",
   "metadata": {},
   "source": [
    "# Set run length\n",
    "\n",
    "## Controlling the length of a submission using the XML variables"
   ]
  },
  {
   "cell_type": "markdown",
   "id": "648f02a8-d105-4aba-b2c0-7bca1f3b66f4",
   "metadata": {},
   "source": [
    "The length of a simulation that is performed within one submission is set in the `env_run.xml` file with the variables `STOP_N` and `STOP_OPTION`.  `STOP_OPTION` controls the units in which you are specifying the length of the simulation and `STOP_N` is the length in those units.\n",
    "\n",
    "By default, the model is set to run for 5 days with\n",
    "\n",
    "`STOP_N = 5` \\\n",
    "`STOP_OPTION = ndays`\n",
    "\n",
    "You can query the default settings of these variables with the command `xmlquery` from inside your case directory e.g.,\n",
    "\n",
    "```\n",
    "./xmlquery STOP_OPTION,STOP_N\n",
    "```\n",
    "\n",
    "will print out the values of `STOP_OPTION` and `STOP_N`.\n",
    "\n",
    "You can change the values of these parameters using the `xmlchange` command.  For example, suppose you want to increase the run length from 5 days to 1 month, you can use:\n",
    "\n",
    "```\n",
    "./xmlchange STOP_OPTION=nmonths,STOP_N=1\n",
    "```\n",
    "\n",
    "The variables `STOP_OPTION` and `STOP_N` control the length of one run segment.  Typically supercomputers have limits on how long you can run at once e.g., some may have a wallclock limit of 12 hours in real time, meaning that you can only run continuously for 12 hours.  In that case, you would want to set `STOP_OPTION` and `STOP_N` to an appropriate length that can be completed within 12 hours of real time.\n",
    "\n",
    "More information about the other variables in `env_run.xml` can be found [here](https://docs.cesm.ucar.edu/models/cesm2/settings/current/drv_input.html)."
   ]
  }
 ],
 "metadata": {
  "kernelspec": {
   "display_name": "Python 3 (ipykernel)",
   "language": "python",
   "name": "python3"
  },
  "language_info": {
   "codemirror_mode": {
    "name": "ipython",
    "version": 3
   },
   "file_extension": ".py",
   "mimetype": "text/x-python",
   "name": "python",
   "nbconvert_exporter": "python",
   "pygments_lexer": "ipython3",
   "version": "3.9.12"
  }
 },
 "nbformat": 4,
 "nbformat_minor": 5
}
