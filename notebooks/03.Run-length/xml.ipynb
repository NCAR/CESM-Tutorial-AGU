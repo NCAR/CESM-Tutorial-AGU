{
 "cells": [
  {
   "cell_type": "markdown",
   "id": "f406f992-92bd-4b17-9bd3-b99c5c8abaf3",
   "metadata": {},
   "source": [
    "# XML variables"
   ]
  },
  {
   "cell_type": "markdown",
   "id": "c0c604b9-565b-4b87-a18a-20c9e3f688b2",
   "metadata": {},
   "source": [
    "## Introduction to XML variables\n",
    "\n",
    "In this section, you will learn how to resubmit a run and how to change the run length.  Much of the control of the running of your CESM simulation is done through  **XML** files.  XML stands for Extensible Markup Language.  The files that end in `.xml` in your case directory contain many variables that control the CESM simulation.  Figure 1 illustrates the various XML files that exist in the CESM case directory."
   ]
  },
  {
   "cell_type": "markdown",
   "id": "a39db5bf-ffec-428b-aa29-da0c6ec9dc06",
   "metadata": {},
   "source": [
    "![xmlfiles](../../images/cesm_structure_xmlfileillustration.png)\n",
    "*<p style=\"text-align: center;\"> Figure 1: CESM structure and the xml files</p>*"
   ]
  },
  {
   "cell_type": "markdown",
   "id": "6f0e357e-2dc6-4496-a621-c687b80a5ff8",
   "metadata": {},
   "source": [
    "The most commonly used XML variables are located in `env_run.xml`.  This file contains variables that are used to control the characteristics of your simulation, such as the run length or whether it is a start up run or the continuation of a run.  These variables can be changed using the `xmlchange` command, which has the advantage over editing this file directly, that the change is propagated to all the necessary locations."
   ]
  },
  {
   "cell_type": "markdown",
   "id": "b95a75b3-c1bc-48a9-a3a1-a1d339170e19",
   "metadata": {
    "tags": []
   },
   "source": [
    "<hr style=\"border: 1px solid black;\">\n",
    "\n",
    "## List of XML variables\n",
    "\n",
    "You can find a listing of all the available XML variables along with their description by running the following commands from your case directory\n",
    "\n",
    "```\n",
    "./xmlquery --listall --description\n",
    "```\n",
    "\n",
    "or for all the variables in a specific file e.g., `env_run.xml`\n",
    "\n",
    "```\n",
    "./xmlquery --listall --file env_run.xml --description\n",
    "```\n",
    "\n",
    "You can find the same information on the CESM website [here](https://docs.cesm.ucar.edu/models/cesm2/settings/current/drv_input.html).\n",
    "\n"
   ]
  }
 ],
 "metadata": {
  "kernelspec": {
   "display_name": "Python 3 (ipykernel)",
   "language": "python",
   "name": "python3"
  },
  "language_info": {
   "codemirror_mode": {
    "name": "ipython",
    "version": 3
   },
   "file_extension": ".py",
   "mimetype": "text/x-python",
   "name": "python",
   "nbconvert_exporter": "python",
   "pygments_lexer": "ipython3",
   "version": "3.9.12"
  }
 },
 "nbformat": 4,
 "nbformat_minor": 5
}
