{
 "cells": [
  {
   "cell_type": "markdown",
   "id": "f406f992-92bd-4b17-9bd3-b99c5c8abaf3",
   "metadata": {},
   "source": [
    "# Overview"
   ]
  },
  {
   "cell_type": "markdown",
   "id": "c0c604b9-565b-4b87-a18a-20c9e3f688b2",
   "metadata": {},
   "source": [
    "There are three ways in which you can start a simulation with CESM. Which way you use is determined\n",
    "by the xml variable `RUN_TYPE` in env run.xml. The three options are `startup`,`branch` and `hybrid`.\n",
    "\n",
    "These have the following characteristics:\n",
    "- **startup**: all components are initialized using pre-defined baseline states that have been provided with CESM. So far we have only used this type of initialization\n",
    "- **branch**: all components are initialized using the complete set of restart files from a previous run.\n",
    "You specify the name of the previous run you want to start from and the date you want to start\n",
    "from with the xml variables `RUN_REFCASE` and `RUN_REFDATE`. The run continues on from the date\n",
    "that you restart from, so you can’t change the start date with a branch run. The advantage of a\n",
    "branch run over the hybrid run is that it reproduces exactly (bit-for-bit) the solution that would be\n",
    "obtained if the original simulation that is used for the initialization were simply continued (provided no other changes have been made to the model).\n",
    "- **hybrid**: the simulation is initialized in a manner similar to a startup run, but instead of using the default initialization datasets, the initialization datasets are specified by the user, for example, they may be obtained from a previously performed simulation. Unlike for a branch run, the start date can be modified by the user and this method of initialization does not result in bit-for-bit similarity with the run that it is initialized from.\n",
    "\n",
    "If you would like to change the output variables part way through a simulation, this can be done using a hybrid or a branch run.\n",
    "\n",
    "**Examples**\n",
    "\n",
    "For instance, the command to change RUN_TYPE to hybrid is: \n",
    "```\n",
    "./xmlchange RUN_TYPE=hybrid\n",
    "```\n",
    "If you do this, you also need to change the reference case and the reference date. For instance if the reference is `case01` and the reference year is `0100-01-01` is can be done with:\n",
    "```\n",
    "./xmlchange RUN_REFCASE=case01\n",
    "./xmlchange RUN_REFDATE=0100-01-01\n",
    "```"
   ]
  },
  {
   "cell_type": "markdown",
   "id": "1407fe89-a0c2-4474-8deb-1123811d5a2c",
   "metadata": {},
   "source": [
    "<hr style=\"border: 1px solid black;\">\n",
    "\n",
    "## Characteristics of different `RUNTYPE`\n",
    "\n",
    "The characteristics of the different runtypes (startup, branch or hybrid) are illustrated in Figure 1. \n"
   ]
  },
  {
   "cell_type": "markdown",
   "id": "3c246e06-23de-4fe5-833c-9a6911eb332e",
   "metadata": {},
   "source": [
    "\n",
    "\n",
    "![Runtype Characteristics](../../images/runtype_characteristics.png )\n",
    "\n",
    "*<p style=\"text-align: center;\"> Figure 1: `RUNTYPE` Characteristics. </p>*"
   ]
  },
  {
   "cell_type": "markdown",
   "id": "6bd76c06-1120-4307-8a4c-ea22f8c3e737",
   "metadata": {},
   "source": [
    "Depending on the runtype, you need to set other xml variables. \n",
    "\n",
    "As explains above, the variable `RUN_TYPE` determines the initialization type. \n",
    "This setting is only important for the **initial** run of a production run when the `CONTINUE_RUN` variable is set to `FALSE`. After the initial run, the `CONTINUE_RUN` variable is set to `TRUE`, and the model restarts exactly using input files in a case, date, and bit-for-bit continuous fashion. \n",
    "\n",
    "The variable `RUN_STARTDATE` is the **start date** (in yyyy-mm-dd format) either a `startup` or `hybrid` run. In a `branch` run, this variable is ignored. \n",
    "\n",
    "If the run is targeted to be a `hybrid` or `branch` run, you must also specify values for `RUN_REFCASE` and `RUN_REFDATE`. "
   ]
  },
  {
   "cell_type": "code",
   "execution_count": null,
   "id": "bb225f75-80f3-42b9-8eb1-cccd4005182f",
   "metadata": {},
   "outputs": [],
   "source": []
  }
 ],
 "metadata": {
  "kernelspec": {
   "display_name": "Python 3 (ipykernel)",
   "language": "python",
   "name": "python3"
  },
  "language_info": {
   "codemirror_mode": {
    "name": "ipython",
    "version": 3
   },
   "file_extension": ".py",
   "mimetype": "text/x-python",
   "name": "python",
   "nbconvert_exporter": "python",
   "pygments_lexer": "ipython3",
   "version": "3.9.12"
  }
 },
 "nbformat": 4,
 "nbformat_minor": 5
}
