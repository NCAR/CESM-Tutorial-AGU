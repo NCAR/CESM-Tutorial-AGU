{
 "cells": [
  {
   "cell_type": "markdown",
   "id": "f406f992-92bd-4b17-9bd3-b99c5c8abaf3",
   "metadata": {},
   "source": [
    "# Overview"
   ]
  },
  {
   "cell_type": "markdown",
   "id": "c0c604b9-565b-4b87-a18a-20c9e3f688b2",
   "metadata": {},
   "source": [
    "This section introduces you to the basics of running CESM.  "
   ]
  },
  {
   "cell_type": "markdown",
   "id": "01e30228-2c72-4e53-9a6b-64f624ad3f64",
   "metadata": {},
   "source": [
    "## CESM directory structure\n",
    "\n",
    "Two things are necessary for running CESM: \n",
    "- the CESM code itself \n",
    "- and input datasets that are specific to the case you’re running (e.g., prescribed sea surface temperatures in the case of an uncoupled simulation or greenhouse gas/aerosol forcing datasets).\n",
    "\n",
    "The figure below shows you the CESM directory structure before you run the model.\n",
    "\n",
    "---\n",
    "![create_newcase](../../images/cesm_structure_code_and_data.png)\n",
    "*<p style=\"text-align: center;\"> Figure: CESM code and input datasets</p>*\n",
    "\n",
    "---"
   ]
  },
  {
   "cell_type": "markdown",
   "id": "ddddfcde-19d8-4c34-ae18-b4ee84e2dcac",
   "metadata": {},
   "source": [
    "In the Figure, you can see two main areas:\n",
    "- The location of the input data. In this tutorial, it has been set up for you as the environment variable `$CESMDATAROOT`.\n",
    "- The location of the CESM root directory which contains all the CESM scripts and code that you’ll be\n",
    "using. In this tutorial, it has already been set up for you as an environment variable `$CESMROOT`. \n",
    "\n",
    "You can go into the directory `$CESMROOT` using the command `cd` (Change Directory). \n",
    "\n",
    "*NOTE: If you are not familiar with unix commands, please review the **unix** section for guidance on the `cd` and other commands.*\n",
    "```\n",
    "cd $CESMROOT\n",
    "```\n",
    "This directory contains all the CESM code and scripts necessary to run CESM. The following two subdirectories are\n",
    "likely to be of most interest:\n",
    "```\n",
    "$CESMROOT/cime: contains all the scripts necessary to set up and run a new case.\n",
    "$CESMROOT/components: contains the model source code for each component.\n",
    "```\n",
    "\n",
    "As an example, go to: \n",
    "```\n",
    "cd $CESMROOT/components/cam/src/physics/cam\n",
    "```\n",
    "There you will see all the source code for physical parameterizations within CAM. "
   ]
  },
  {
   "cell_type": "markdown",
   "id": "47cd8eff-3813-4ed7-9b25-bc13d6750d9e",
   "metadata": {},
   "source": [
    "## Set of commands to run CESM during the WCRP tutorial\n",
    "\n",
    "You can run a simple experiment with CESM using only four commands: `create_newcase`, `case.setup`, `case.build`, `case.submit`. To execute these commands successfully, you will also need to navigate between various CESM directories. You will use unix commands such as `cd` to navigate between CESM directories. Once again, if you are not familiar with unix commands, please review the **unix** section for guidance. \n",
    "\n",
    "```\n",
    "# go into scripts directory into the CESM code\n",
    "cd $CESMROOT/cime/scripts\n",
    "\n",
    "# create a new case in the directory “cases” in your home directory\n",
    "./create_newcase --case ~/cases/case01 --compset B1850-tutorial --res f19_g17 \n",
    "\n",
    "# go into the case you just created in the last step\n",
    "cd ~/cases/case01/\n",
    "\n",
    "# setup your case\n",
    "./case.setup\n",
    "\n",
    "# build the executable\n",
    "qcmd -- ./case.build\n",
    "\n",
    "# submit your run\n",
    "./case.submit\n",
    "```"
   ]
  },
  {
   "cell_type": "markdown",
   "id": "12f110b5-14bb-40dd-8b56-5899d409c6a0",
   "metadata": {},
   "source": [
    "**NOTE: B1850-tutorial is not an available configuration in CESM2. It is a configuration that has been specially designed for this tutorial to make the model run faster. All the concepts you learn here will work with the standard model.** \n",
    "\n",
    "Below you can uncover the set of commands to run CESM with the standard model."
   ]
  },
  {
   "cell_type": "markdown",
   "id": "c8681912-2647-4cfb-92da-f582e90d953d",
   "metadata": {},
   "source": [
    "<div class=\"alert alert-secondary\">  \n",
    "<details>\n",
    "\n",
    "<summary> <font face=\"Times New Roman\" color='blue'>Click here to uncover det of commands to run CESM with the standard model</font> </summary><br>\n",
    "\n",
    "    \n",
    "## Set of commands to run CESM with the standard model\n",
    "\n",
    "You can run a simple experiment with CESM using only four commands: `create_newcase`, `case.setup`, `case.build`, `case.submit`. To execute these commands successfully, you will also need to navigate between various CESM directories. You will use unix commands such as `cd` to navigate between CESM directories. If you are not familiar with unix commands, please review the **unix** section for guidance. \n",
    "\n",
    "```\n",
    "# go into scripts directory into the CESM code\n",
    "cd $CESMROOT/cime/scripts\n",
    "\n",
    "# create a new case in the directory “cases” in your home directory\n",
    "./create_newcase --case ~/cases/case01 --compset B1850 --res f09_g17 \n",
    "\n",
    "# go into the case you just created in the last step\n",
    "cd ~/cases/case01/\n",
    "\n",
    "# setup your case\n",
    "./case.setup\n",
    "\n",
    "# build the executable\n",
    "./case.build\n",
    "\n",
    "# submit your run\n",
    "./case.submit\n",
    "```\n",
    "    \n",
    "</details>\n",
    "</div>\n"
   ]
  },
  {
   "cell_type": "markdown",
   "id": "7c54ae6f-3102-4bd4-a88f-af08acd7395f",
   "metadata": {
    "tags": []
   },
   "source": [
    "## The `create_newcase` command\n",
    "\n",
    "The figure below shows you the 4 commands along with the CESM directory structure (before you run the model). On the figure, you can see the location of the command `create newcase` that is used to set up a new case. \n",
    "\n",
    "---\n",
    "![create_newcase](../../images/cesm_structure_before_create_newcase.png)\n",
    "*<p style=\"text-align: center;\"> Figure: CESM structure and the create_newcase commands</p>*\n",
    "\n",
    "---\n",
    "\n",
    "The `create_newcase` command is located in `$CESMROOT/cime/scripts`\n",
    "\n",
    "You can go to that directory using the command:\n",
    "```\n",
    "cd $CESMROOT/cime/scripts\n",
    "```\n",
    "\n",
    "\n",
    "This command has three required inputs and other optional inputs. The required inputs are\n",
    "- case: the name and directory path of your case e.g., setting case to ∼/cases/case01 will make a\n",
    "simulation called case01 and it will be located in ∼/cases\n",
    "- compset: the CESM component set that you’d like to use. See\n",
    "http://www.cesm.ucar.edu/models/cesm2/config/compsets.html\n",
    "for a list of pre-defined compsets and\n",
    "https://esmci.github.io/cime/versions/master/html/users_guide/compsets.html\n",
    "for documentation on how to create your own. Note that here we will be using the compset ”B1850-\n",
    "tutorial” which has been specially developed for the purposes of this tutorial - it is not available\n",
    "within the CESM2 release.\n",
    "- res: the resolution that you’d like to use.\n",
    "\n",
    "In addition to the CESM web pages, you can find information on available compsets and resolutions using\n",
    "the “query config” tool located in $CESMROOT/cime/scripts e.g.,\n",
    "./query config --help\n",
    "will provide you with information on the arguments taken by query config and then e.g.,\n",
    "./query config --grids\n",
    "will list all the available grids. You can use this tool to find the arguments you want to provide to\n",
    "“create newcase”."
   ]
  },
  {
   "cell_type": "markdown",
   "id": "8d33e03e-434d-4182-80b5-cb33f7fa51fd",
   "metadata": {},
   "source": [
    "The syntax for the create_newcase command is:\n",
    "    \n",
    "---\n",
    "![create_newcase](../../images/create_newcase_syntax.png)\n",
    "*<p style=\"text-align: center;\"> Figure: Syntax for the `create_newcase` command</p>*\n",
    "\n",
    "---\n"
   ]
  },
  {
   "cell_type": "markdown",
   "id": "9adf2198-216e-40c5-b10a-aa94f38e1a31",
   "metadata": {},
   "source": [
    "## The `case.setup` command\n",
    "\n",
    "The figure below shows you the CESM directory structure before you run the model.\n",
    "\n",
    "---\n",
    "![create_newcase](../../images/cesm_structure_code_and_data.png)\n",
    "*<p style=\"text-align: center;\"> Figure: CESM code and input datasets</p>*\n",
    "\n",
    "---"
   ]
  },
  {
   "cell_type": "markdown",
   "id": "44560957-8531-4b55-9ad3-52c33efcf3b0",
   "metadata": {},
   "source": [
    "## The `case.build` command\n",
    "\n",
    "The figure below shows you the CESM directory structure before you run the model.\n",
    "\n",
    "---\n",
    "![create_newcase](../../images/cesm_structure_code_and_data.png)\n",
    "*<p style=\"text-align: center;\"> Figure: CESM code and input datasets</p>*\n",
    "\n",
    "---"
   ]
  },
  {
   "cell_type": "markdown",
   "id": "29c0e16b-1771-417d-893e-046d2782fa2d",
   "metadata": {},
   "source": [
    "## The `case.submit` command\n",
    "\n",
    "The figure below shows you the CESM directory structure before you run the model.\n",
    "\n",
    "---\n",
    "![create_newcase](../../images/cesm_structure_code_and_data.png)\n",
    "*<p style=\"text-align: center;\"> Figure: CESM code and input datasets</p>*\n",
    "\n",
    "---"
   ]
  },
  {
   "cell_type": "code",
   "execution_count": null,
   "id": "ac8ce9d0-0f4e-4764-97b5-e907d3b4e86f",
   "metadata": {},
   "outputs": [],
   "source": []
  }
 ],
 "metadata": {
  "kernelspec": {
   "display_name": "Python 3 (ipykernel)",
   "language": "python",
   "name": "python3"
  },
  "language_info": {
   "codemirror_mode": {
    "name": "ipython",
    "version": 3
   },
   "file_extension": ".py",
   "mimetype": "text/x-python",
   "name": "python",
   "nbconvert_exporter": "python",
   "pygments_lexer": "ipython3",
   "version": "3.9.12"
  }
 },
 "nbformat": 4,
 "nbformat_minor": 5
}
