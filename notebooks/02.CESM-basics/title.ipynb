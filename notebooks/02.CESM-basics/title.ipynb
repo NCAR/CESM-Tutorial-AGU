{
 "cells": [
  {
   "cell_type": "markdown",
   "id": "b5524d43-6355-4849-b990-9019ba968577",
   "metadata": {},
   "source": [
    "# CESM Basics"
   ]
  },
  {
   "cell_type": "markdown",
   "id": "011f3eb7-87cb-46d6-aea5-ce17a96f0cc7",
   "metadata": {},
   "source": [
    "This section will introduce you to the basics of running CESM. \n",
    "\n",
    "In this section:\n",
    "- You will learn that you can run a simple experiment with CESM using only four commands!\n",
    "- You will learn the purpose of each command and how it relates to the CESM directory structure.\n",
    "- Finally, you will run your first CESM experiment (in the exercise). "
   ]
  },
  {
   "cell_type": "code",
   "execution_count": null,
   "id": "7911e111-1d9f-43b6-8ab4-e83b4d3b0a00",
   "metadata": {},
   "outputs": [],
   "source": []
  }
 ],
 "metadata": {
  "kernelspec": {
   "display_name": "Python 3 (ipykernel)",
   "language": "python",
   "name": "python3"
  },
  "language_info": {
   "codemirror_mode": {
    "name": "ipython",
    "version": 3
   },
   "file_extension": ".py",
   "mimetype": "text/x-python",
   "name": "python",
   "nbconvert_exporter": "python",
   "pygments_lexer": "ipython3",
   "version": "3.9.12"
  }
 },
 "nbformat": 4,
 "nbformat_minor": 5
}
