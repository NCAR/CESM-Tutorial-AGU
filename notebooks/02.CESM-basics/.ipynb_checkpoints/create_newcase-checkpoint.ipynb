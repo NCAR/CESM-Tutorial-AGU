{
 "cells": [
  {
   "cell_type": "markdown",
   "id": "06bee71b-550e-4e63-8657-8c6259567489",
   "metadata": {},
   "source": [
    "# create_newcase"
   ]
  },
  {
   "cell_type": "markdown",
   "id": "cf24c264-c8c4-4f2e-9f1d-e837b2447b49",
   "metadata": {},
   "source": [
    "The tool that generates a new case is `create_newcase`. Note that in the CESM jargon, a case is equivalent to a simulation. \n",
    "\n",
    "The `create_newcase` command is located in `$CESMROOT/cime/scripts`\n",
    "\n",
    "You can go to that directory using the command:\n",
    "```\n",
    "cd $CESMROOT/cime/scripts\n",
    "```\n",
    "\n",
    "Figure 1 shows the location of the command `create newcase` within the CESM code. \n",
    "\n",
    "---\n",
    "![create_newcase](../../images/cesm_structure_before_create_newcase.png)\n",
    "*<p style=\"text-align: center;\"> Figure 1: CESM structure and the create_newcase command</p>*\n",
    "\n",
    "---"
   ]
  },
  {
   "cell_type": "markdown",
   "id": "7c54ae6f-3102-4bd4-a88f-af08acd7395f",
   "metadata": {
    "tags": []
   },
   "source": [
    "<hr style=\"border: 1px solid black;\">\n",
    "\n",
    "## Syntax of `create_newcase`\n",
    "\n",
    "The `create_newcase` command has three required inputs (and other optional inputs). \n",
    "\n",
    "The required inputs are\n",
    "- `case`: the name and directory path of your case \n",
    "  e.g., setting case to `~/cases/case01` will make a simulation called `case01` and it will be located in `~/cases`\n",
    "- `compset`: the CESM component set that you’d like to use. The CESM2 components can be combined in numerous ways to carry out various scientific experiments. A particular mix of components, along with component-specific configuration and/or namelist settings is called a component set or `compset`.\n",
    "  See https://docs.cesm.ucar.edu/models/cesm2/config/compsets.html for a list of pre-defined compsets.  \n",
    "  Note that here we will be using the compset `B1850-tutorial` which has been specially developed for the purposes of this tutorial - it is not available within the CESM2 release.\n",
    "\n",
    "- `res`: the resolution that you’d like to use.\n",
    "\n",
    "\n",
    "In our example, the create_newcase command will be:\n",
    "```\n",
    "./create_newcase --case ~/cases/case01 --compset B1850-tutorial --res f19_g17 \n",
    "```\n",
    "\n",
    "The syntax for the create_newcase command is also illustrated in Figure 2 below."
   ]
  },
  {
   "cell_type": "markdown",
   "id": "8d33e03e-434d-4182-80b5-cb33f7fa51fd",
   "metadata": {},
   "source": [
    "\n",
    "![create_newcase](../../images/create_newcase_syntax.png)\n",
    "*<p style=\"text-align: center;\"> Figure 2: Syntax for the `create_newcase` command</p>*\n"
   ]
  },
  {
   "cell_type": "markdown",
   "id": "ca36c5ae-6052-4277-9c77-95b3fc79bc48",
   "metadata": {},
   "source": [
    "<hr style=\"border: 1px solid black;\">\n",
    "\n",
    "## Result of `create_newcase`\n",
    "\n",
    "The `create_newcase` command will create the **case directory** and the **build/run directories**. The **case directory** will contain the scripts you need for the following steps: `case.setup`, `case.build` and `case.submit`. This is illustrated in Figure 3 below:\n",
    "    \n",
    "---\n",
    "![create_newcase](../../images/cesm_structure_after_create_newcase.png)\n",
    "*<p style=\"text-align: center;\"> Figure 3: View of the CESM directory structure after the `create_newcase` command</p>*\n",
    "\n",
    "---\n"
   ]
  },
  {
   "cell_type": "markdown",
   "id": "8d297ccb-4228-46fd-a793-6d629d8afd5f",
   "metadata": {},
   "source": [
    "<hr style=\"border: 1px solid black;\">\n",
    "\n",
    "## More advanced information:\n",
    "\n",
    "\n",
    "You are not restricted to the pre-defined compsets. You can create your own. \n",
    "Visit: https://esmci.github.io/cime/versions/master/html/users_guide/compsets.html\n",
    "for documentation on how to create your own. \n",
    "\n",
    "In addition to the CESM web pages, you can find information on available compsets and resolutions using\n",
    "the `query_config` tool located in $CESMROOT/cime/scripts e.g.,\n",
    "```\n",
    "cd $CESMROOT/cime/scripts \n",
    "./query_config --help\n",
    "```\n",
    "will provide you with information on the arguments taken by query config and then e.g.,\n",
    "```\n",
    "./query_config --grids\n",
    "```\n",
    "will list all the available grids. \n",
    "```\n",
    "./query_config --compsets \n",
    "```\n",
    "will list all the available component sets.\n",
    "\n",
    "You can use this tool to find the arguments you want to provide to `create_newcase`."
   ]
  },
  {
   "cell_type": "code",
   "execution_count": null,
   "id": "e8be12be-fdcd-4839-b161-995d230055dd",
   "metadata": {},
   "outputs": [],
   "source": []
  }
 ],
 "metadata": {
  "kernelspec": {
   "display_name": "Python 3 (ipykernel)",
   "language": "python",
   "name": "python3"
  },
  "language_info": {
   "codemirror_mode": {
    "name": "ipython",
    "version": 3
   },
   "file_extension": ".py",
   "mimetype": "text/x-python",
   "name": "python",
   "nbconvert_exporter": "python",
   "pygments_lexer": "ipython3",
   "version": "3.9.12"
  }
 },
 "nbformat": 4,
 "nbformat_minor": 5
}
