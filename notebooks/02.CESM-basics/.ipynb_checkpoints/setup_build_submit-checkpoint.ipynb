{
 "cells": [
  {
   "cell_type": "markdown",
   "id": "06bee71b-550e-4e63-8657-8c6259567489",
   "metadata": {},
   "source": [
    "# setup, build, submit"
   ]
  },
  {
   "cell_type": "markdown",
   "id": "9adf2198-216e-40c5-b10a-aa94f38e1a31",
   "metadata": {},
   "source": [
    "The `case.setup`, `case.build`, and `case.submit` commands are all executed from the case directory e.g., `~/cases/case01` in our example.\n",
    "\n",
    "<hr style=\"border: 1px solid black;\">\n",
    "\n",
    "## The command `case.setup` \n",
    "\n",
    "You now need to navigate to the case directory where `case.setup` is located and run the `case.setup` command. In the example shown in Figure 1, you need to do:\n",
    "```\n",
    "cd ~/cases/case01 \n",
    "./case.setup\n",
    "```\n",
    "Issuing the `case.setup` command creates more files needed to run the model. \n",
    "\n",
    "![create_newcase](../../images/cesm_structure_after_case.setup.png)\n",
    "*<p style=\"text-align: center;\"> Figure 1: Location of the command `case.setup`</p>*\n"
   ]
  },
  {
   "cell_type": "markdown",
   "id": "44560957-8531-4b55-9ad3-52c33efcf3b0",
   "metadata": {},
   "source": [
    "<hr style=\"border: 1px solid black;\">\n",
    "\n",
    "## The command `case.build` \n",
    "\n",
    "You are now ready to build the model. This is done with the command: \n",
    "```\n",
    "qcmd -- ./case.build\n",
    "``` \n",
    "The `qcmd` command is a command that is used on all NCAR supercomputers to run commands on a compute node, instead of a login node.  We use this for the `case.build` command because it uses multiple processors, and thus isn’t a good fit for building on login nodes. If you are running the model somewhere else, this will likely not be needed and you can simply run `./case.build`, or request a compute node directly then build there.  If you are unsure how to do this, ask your systems people and they can likely help.\n",
    "\n",
    "As you compile the model, it will write files in the build directory: \n",
    "```\n",
    "~/scratch/case01/bld\n",
    "```\n",
    "\n",
    "The build takes a few minutes. You’ll know this is complete when you see the line:\n",
    "\n",
    "```\n",
    "MODEL BUILD HAS FINISHED SUCCESSFULLY\n",
    "```\n",
    "\n",
    "![create_newcase](../../images/cesm_structure_after_case.build.png)\n",
    "*<p style=\"text-align: center;\"> Figure 2: CESM structure after `case.build`</p>*\n"
   ]
  },
  {
   "cell_type": "markdown",
   "id": "29c0e16b-1771-417d-893e-046d2782fa2d",
   "metadata": {},
   "source": [
    "<hr style=\"border: 1px solid black;\">\n",
    "\n",
    "## The command `case.submit` \n",
    " \n",
    "Running a case is also simple - we just issue the command:\n",
    "```\n",
    "./case.submit \n",
    "```\n",
    "This will start by checking that we have all of the necessary input data for our run, and downloading whatever is missing, and then it will perform the actual simulation.\n",
    "\n",
    "**Check the model is running**\n",
    "\n",
    "Once you have submitted the case, you can see its status in the queue with either of the following commanda:\n",
    "```\n",
    "qstat -u <username>\n",
    "```\n",
    "or this also works:\n",
    "```\n",
    "squeue -u <username>\n",
    "```\n",
    "replacing `<username>` with your username for the system.\n",
    "\n",
    "You can also see CESM outputting data as the simulation progresses in the run directory, which for our purposes, is located at \n",
    "```\n",
    "cd ~/scratch/case01/run\n",
    "```\n",
    "\n",
    "This is where the data are output until the run is finished.\n",
    "\n",
    "\n",
    "![create_newcase](../../images/cesm_structure_after_case.submit.png)\n",
    "*<p style=\"text-align: center;\"> Figure 3: CESM structure after `case.build`</p>*\n"
   ]
  },
  {
   "cell_type": "markdown",
   "id": "f10ff348-2fcb-40e5-8354-3b00cc20adb3",
   "metadata": {},
   "source": [
    "<hr style=\"border: 1px solid black;\">\n",
    "\n",
    "## After your run completes\n",
    "\n",
    "When the run is finished, the data is moved from the run directory to the archive directory. This is illustrated in Figure 4. \n",
    "\n",
    "For this tutorial purpose, the archive directory is located at \n",
    "```\n",
    "cd ~/scratch/archive/case01\n",
    "```\n",
    "\n",
    "![create_newcase](../../images/cesm_structure_after_case.archive.png)\n",
    "*<p style=\"text-align: center;\"> Figure 4: CESM structure the run completes</p>*\n"
   ]
  },
  {
   "cell_type": "code",
   "execution_count": null,
   "id": "f07ba3c5-9de3-40a4-a05e-4c47ff61bef9",
   "metadata": {},
   "outputs": [],
   "source": []
  }
 ],
 "metadata": {
  "kernelspec": {
   "display_name": "Python 3 (ipykernel)",
   "language": "python",
   "name": "python3"
  },
  "language_info": {
   "codemirror_mode": {
    "name": "ipython",
    "version": 3
   },
   "file_extension": ".py",
   "mimetype": "text/x-python",
   "name": "python",
   "nbconvert_exporter": "python",
   "pygments_lexer": "ipython3",
   "version": "3.9.12"
  }
 },
 "nbformat": 4,
 "nbformat_minor": 5
}
