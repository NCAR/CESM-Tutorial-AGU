{
 "cells": [
  {
   "cell_type": "markdown",
   "metadata": {
    "tags": []
   },
   "source": [
    "# Logging on to the cloud\n",
    "\n",
    "To begin, you'll need to access the cloud. \n",
    "\n",
    "Here are the steps to log on to the cloud:\n",
    "\n",
    "- Open your web browser and navigate to the following URL: https://wcrp.cesm.cloud. Once you do this, you will be directed to a page resembling the one depicted in Figure 1.\n",
    "- On this page, you will need to provide your `username` and `password`. Enter the credentials associated with your account to gain access to the cloud.\n",
    "\n",
    "You should have received these credentials by email.  If you have not received them, please let the tutorial helpers know.\n",
    "\n",
    "![Log on the cloud](../../images/cloud.png)\n",
    "<p style=\"text-align: center;\"> Figure 1: Log on the cloud: https://wcrp.cesm.cloud </p>\n",
    "\n"
   ]
  },
  {
   "cell_type": "markdown",
   "metadata": {},
   "source": [
    "<hr style=\"border: 1px solid black;\">\n",
    "\n",
    "## JupyterHub\n",
    "\n",
    "Once you've entered your username and password, you will be directed to a window that has the appearance of Figure 2. This signifies that you have successfully arrived at the JupyterHub interface. Here is where you will carry out your work.\n",
    "\n",
    "![Log on the cloud](../../images/jupyter_hub.png)\n",
    "<p style=\"text-align: center;\"> Figure 2: View of the JupyterHub  </p>"
   ]
  },
  {
   "cell_type": "code",
   "execution_count": null,
   "metadata": {},
   "outputs": [],
   "source": []
  }
 ],
 "metadata": {
  "kernelspec": {
   "display_name": "Python 3 (ipykernel)",
   "language": "python",
   "name": "python3"
  },
  "language_info": {
   "codemirror_mode": {
    "name": "ipython",
    "version": 3
   },
   "file_extension": ".py",
   "mimetype": "text/x-python",
   "name": "python",
   "nbconvert_exporter": "python",
   "pygments_lexer": "ipython3",
   "version": "3.9.12"
  }
 },
 "nbformat": 4,
 "nbformat_minor": 4
}
