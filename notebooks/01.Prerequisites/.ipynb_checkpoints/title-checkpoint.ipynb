{
 "cells": [
  {
   "cell_type": "markdown",
   "metadata": {
    "tags": []
   },
   "source": [
    "# Prerequisites\n",
    "\n",
    "In this section, you will find information on the following topics:\n",
    "- Using this book and navigating through the current **CESM tutorial**.\n",
    "- logging on the **cloud**: https://wcrp.cesm.cloud  \n",
    "- opening a **terminal** on the cloud .\n",
    "- basic **Unix** commands.\n",
    "- using a simple text editor called **nano**.\n",
    "- using **Jupyter notebooks**."
   ]
  },
  {
   "cell_type": "code",
   "execution_count": null,
   "metadata": {},
   "outputs": [],
   "source": []
  }
 ],
 "metadata": {
  "kernelspec": {
   "display_name": "Bash",
   "language": "bash",
   "name": "bash"
  },
  "language_info": {
   "codemirror_mode": "shell",
   "file_extension": ".sh",
   "mimetype": "text/x-sh",
   "name": "bash"
  }
 },
 "nbformat": 4,
 "nbformat_minor": 4
}
