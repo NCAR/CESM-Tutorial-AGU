{
 "cells": [
  {
   "cell_type": "markdown",
   "metadata": {
    "tags": []
   },
   "source": [
    "# Using this book\n",
    "\n",
    "This page explain how to use the current tutorial. \n",
    "\n",
    "On the left side you have the **table of contents**\n",
    "- Click on a specific link will bring you to differents sections\n",
    "\n",
    "![JupyterBook TOC](../../images/TOC.png)\n",
    "<p style=\"text-align: center;\"> Figure: Table of Contents</p>"
   ]
  },
  {
   "cell_type": "code",
   "execution_count": null,
   "metadata": {},
   "outputs": [],
   "source": []
  }
 ],
 "metadata": {
  "kernelspec": {
   "display_name": "Bash",
   "language": "bash",
   "name": "bash"
  },
  "language_info": {
   "codemirror_mode": "shell",
   "file_extension": ".sh",
   "mimetype": "text/x-sh",
   "name": "bash"
  }
 },
 "nbformat": 4,
 "nbformat_minor": 4
}
