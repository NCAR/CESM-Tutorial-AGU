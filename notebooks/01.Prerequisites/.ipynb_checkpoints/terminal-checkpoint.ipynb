{
 "cells": [
  {
   "cell_type": "markdown",
   "metadata": {
    "tags": []
   },
   "source": [
    "# Open a terminal\n",
    "\n",
    "After logging into the cloud and landing on the Jupyter Hub, you can open a terminal.\n",
    "\n",
    "Here's how to do it: Click on the **Terminal** link\n",
    "\n",
    "![Open a terminal](../../images/open_terminal.png)\n",
    "<p style=\"text-align: center;\"> Figure 1: Open a terminal/p>"
   ]
  },
  {
   "cell_type": "markdown",
   "metadata": {},
   "source": [
    "Once you've opened the terminal, it will appear like this:\n",
    "\n",
    "![Terminal view](../../images/terminal_view.png)\n",
    "<p style=\"text-align: center;\"> Figure 2: Terminal/p>"
   ]
  },
  {
   "cell_type": "code",
   "execution_count": null,
   "metadata": {},
   "outputs": [],
   "source": []
  }
 ],
 "metadata": {
  "kernelspec": {
   "display_name": "Bash",
   "language": "bash",
   "name": "bash"
  },
  "language_info": {
   "codemirror_mode": "shell",
   "file_extension": ".sh",
   "mimetype": "text/x-sh",
   "name": "bash"
  }
 },
 "nbformat": 4,
 "nbformat_minor": 4
}
