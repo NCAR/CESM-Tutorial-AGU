{
 "cells": [
  {
   "cell_type": "markdown",
   "metadata": {
    "tags": []
   },
   "source": [
    "# Jupyter Notebooks\n",
    "\n",
    "This section contains basic information about `Jupyter Notebooks` that you will need for this tutorial. \n",
    "\n",
    "## How to run a cell\n",
    "\n",
    "A `Notebook` is composed of cells. In this tutorial, you will often hear `run a cell`. \n",
    "\n",
    "To run a cell in a notebook. **Click on the cell and press: `Shift+return`**   \n"
   ]
  },
  {
   "cell_type": "markdown",
   "metadata": {},
   "source": [
    "![Running a cell](../../images/running_cell.png)\n",
    "<p style=\"text-align: center;\"> Figure: Running a cell </p>"
   ]
  }
 ],
 "metadata": {
  "kernelspec": {
   "display_name": "Python 3 (ipykernel)",
   "language": "python",
   "name": "python3"
  },
  "language_info": {
   "codemirror_mode": {
    "name": "ipython",
    "version": 3
   },
   "file_extension": ".py",
   "mimetype": "text/x-python",
   "name": "python",
   "nbconvert_exporter": "python",
   "pygments_lexer": "ipython3",
   "version": "3.9.12"
  }
 },
 "nbformat": 4,
 "nbformat_minor": 4
}
