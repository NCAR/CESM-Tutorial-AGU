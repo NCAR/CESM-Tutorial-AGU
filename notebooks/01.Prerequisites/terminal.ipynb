{
 "cells": [
  {
   "cell_type": "markdown",
   "metadata": {
    "tags": []
   },
   "source": [
    "# Open a terminal\n",
    "\n",
    "After logging into the cloud and landing on the JupyterHub, you can open a terminal.\n",
    "\n",
    "Here's how to proceed: \n",
    "- Look for the **Terminal** link. Click on it to initiate the terminal, as illustrated in Figure 1.\n",
    "- Once you've opened the terminal, it will resemble the example shown in Figure 2.\n",
    "\n",
    "![Open a terminal](../../images/open_terminal.png)\n",
    "<p style=\"text-align: center;\"> Figure 1: Open a terminal </p>"
   ]
  },
  {
   "cell_type": "markdown",
   "metadata": {},
   "source": [
    "\n",
    "\n",
    "![Terminal view](../../images/terminal_view.png)\n",
    "<p style=\"text-align: center;\"> Figure 2: Terminal view </p>"
   ]
  }
 ],
 "metadata": {
  "kernelspec": {
   "display_name": "Bash",
   "language": "bash",
   "name": "bash"
  },
  "language_info": {
   "codemirror_mode": "shell",
   "file_extension": ".sh",
   "mimetype": "text/x-sh",
   "name": "bash"
  }
 },
 "nbformat": 4,
 "nbformat_minor": 4
}
