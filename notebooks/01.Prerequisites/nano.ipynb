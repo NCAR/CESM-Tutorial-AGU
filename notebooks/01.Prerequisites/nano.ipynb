{
 "cells": [
  {
   "cell_type": "markdown",
   "metadata": {
    "tags": []
   },
   "source": [
    "# Nano Text Editor\n",
    "\n",
    "Here's a very brief tutorial on using the **Nano** text editor. \n",
    "\n",
    "Nano is a simple and user-friendly text editor for quick editing text files in the terminal. If you know other text editors such as vi or emacs, you are welcome to use them too.\n",
    "\n",
    "## Opening a File:\n",
    "\n",
    "To open a file with Nano, simply type nano followed by the filename from the command line in a terminal. \n",
    "\n",
    "For example, if you type in a terminal: \n",
    "```\n",
    "nano filename.txt\n",
    "```\n",
    "you will open a nano window as shown in Figure 1.\n",
    "\n",
    "![Copy/paste website](../../images/nano_terminal.png)\n",
    "<p style=\"text-align: center;\"> Figure 1: Nano window</p>\n",
    "\n",
    "## Basic Navigation:\n",
    "\n",
    "Use the arrow keys to navigate through the text.\n",
    "- `Ctrl + y`: Page Up\n",
    "- `Ctrl + v`: Page Down\n",
    "\n",
    "## Editing Text:\n",
    "\n",
    "To start editing, simply type. You can insert, delete, and modify text as needed.\n",
    "\n",
    "## Saving Changes:\n",
    "\n",
    "To save your changes, press `Ctrl + o`, confirm the filename, and press Enter.\n",
    "\n",
    "## Exiting Nano:\n",
    "\n",
    "To exit Nano, press `Ctrl + x`. If you have unsaved changes, Nano will prompt you to save them.\n",
    "\n",
    "## Search for text:\n",
    "\n",
    "To locate a specific text in Nano, press `Ctrl + w`. Do `Ctrl + c, to cancel the search and return to normal editing mode.\n",
    "\n",
    "\n",
    "## Other Useful Commands:\n",
    "\n",
    "- `Ctrl + g`: Get help.\n",
    "- `Ctrl + k`: Cut (delete) a line.\n",
    "- `Ctrl + u`: Uncut (paste) the cut line.\n",
    "- `Ctrl + c`: Show cursor position.\n",
    "\n"
   ]
  },
  {
   "cell_type": "code",
   "execution_count": null,
   "metadata": {},
   "outputs": [],
   "source": []
  }
 ],
 "metadata": {
  "kernelspec": {
   "display_name": "Bash",
   "language": "bash",
   "name": "bash"
  },
  "language_info": {
   "codemirror_mode": "shell",
   "file_extension": ".sh",
   "mimetype": "text/x-sh",
   "name": "bash"
  }
 },
 "nbformat": 4,
 "nbformat_minor": 4
}
