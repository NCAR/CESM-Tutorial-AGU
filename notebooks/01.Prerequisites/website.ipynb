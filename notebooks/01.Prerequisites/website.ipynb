{
 "cells": [
  {
   "cell_type": "markdown",
   "metadata": {
    "tags": []
   },
   "source": [
    "# Using this website\n",
    "\n",
    "This page explains how to navigate through the current tutorial.\n",
    "\n",
    "Take a look at Figure 1 below.\n",
    "- On the left side, you'll find the **table of contents** with various chapters.\n",
    "- When you click on a section in the table of contents, it will display the corresponding **materials** on the right side.\n",
    "- As an example, we've clicked on **CESM Basics**. You can see that this section includes several pages of materials and one **exercise**. Please go through the materials at your own pace and then complete the exercise.\n",
    "\n",
    "<br><br>"
   ]
  },
  {
   "cell_type": "markdown",
   "metadata": {},
   "source": [
    "![website](../../images/JupyterBook_TOC.png)\n",
    "<p style=\"text-align: center;\"> Figure 1: Table of Contents and Materials </p>"
   ]
  },
  {
   "cell_type": "markdown",
   "metadata": {},
   "source": [
    "<hr style=\"border: 1px solid black;\">\n",
    "\n",
    "## Copy/paste from website\n",
    "\n",
    "Please note that you can easily copy/paste text from the website to a terminal by clicking on the icon **Copy** as shown on Figure 2.\n",
    "\n",
    "![Copy/paste website](../../images/copy_paste_website.png)\n",
    "<p style=\"text-align: center;\"> Figure 2: Copy text from website </p>"
   ]
  },
  {
   "cell_type": "code",
   "execution_count": null,
   "metadata": {},
   "outputs": [],
   "source": []
  }
 ],
 "metadata": {
  "kernelspec": {
   "display_name": "Bash",
   "language": "bash",
   "name": "bash"
  },
  "language_info": {
   "codemirror_mode": "shell",
   "file_extension": ".sh",
   "mimetype": "text/x-sh",
   "name": "bash"
  }
 },
 "nbformat": 4,
 "nbformat_minor": 4
}
