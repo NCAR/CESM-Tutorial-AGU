{
 "cells": [
  {
   "cell_type": "markdown",
   "id": "f406f992-92bd-4b17-9bd3-b99c5c8abaf3",
   "metadata": {},
   "source": [
    "# Examining the output from your 1 month simulation\n",
    "\n",
    "In this exercise, you'll check that the output from your 1 month simulation has been created and you'll examine the contents of the output files."
   ]
  },
  {
   "cell_type": "markdown",
   "id": "b90d4773-7ca0-4131-ab07-517608a3e976",
   "metadata": {},
   "source": [
    "\n",
    "<div class=\"alert alert-info\">\n",
    "    \n",
    "<strong>Exercise: Look at the history files from your 1 month simulation.</strong>\n",
    "    \n",
    "Use the `ncdump -h` command to examine the contents of the history files from your simulation.\n",
    "    \n",
    "Optional: If you would like to look at maps of your output you can open up the analysis notebook `analysis_notebook_section4.ipynb`.  Executing the cells in this notebook will allow you to make a simple plot of a field in the h0 history file.  This notebook is currently set to plot the zonal wind field \"U\" on the model level nearest 500hPa but you can change this by changing the variables `varplot` and `pplot`. \n",
    "    \n",
    "If, for some reason, your simulation hasn't completed, you can see example output at \n",
    "    \n",
    "`/opt/ncar/tutorial_files/exercise4/`\n",
    "\n",
    "</div>\n"
   ]
  },
  {
   "cell_type": "markdown",
   "id": "65b2cbda-2d54-48ee-898b-4c391f16ca79",
   "metadata": {},
   "source": [
    "\n",
    "<div class=\"alert alert-warning\">  \n",
    "<details>\n",
    "\n",
    "<summary> <font face=\"Times New Roman\" color='blue'>Click here for hints</font> </summary><br>\n",
    "\n",
    "Your one month simulation should have completed by now.  You can go into the directory that contains the history files for the atmosphere by \n",
    "    \n",
    "`cd ~/scratch/archive/case01/atm/hist`\n",
    "    \n",
    "You should see a NetCDF (`.nc.`) file here if you use the command `ls`\n",
    "    \n",
    "You can then use the following command to list all the variables that are in the file and their attributes\n",
    "    \n",
    "`ncdump -h case01.cam.h0.0001-01.nc | more`\n",
    "    \n",
    "You can press enter to continue scrolling down the entries.\n",
    "    \n",
    "</details>\n",
    "</div>\n"
   ]
  },
  {
   "cell_type": "markdown",
   "id": "7dd602b7-372d-4f36-b6d1-df8e22ba1646",
   "metadata": {},
   "source": [
    "\n",
    "<div class=\"alert alert-success\">   \n",
    "<details>\n",
    "<summary><font face=\"Times New Roman\" color='blue'>Click here for the solution</font></summary><br>\n",
    " \n",
    "`cd ~/scratch/archive/case01/atm/hist`\n",
    "`ncdump -h case01.cam.h0.0001-01.nc | more`\n",
    "\n",
    " Then continue pressing return to scroll down the contents of the file.\n",
    "\n",
    "</details>\n",
    "</div>\n",
    "\n"
   ]
  },
  {
   "cell_type": "code",
   "execution_count": null,
   "id": "815be0bc-515a-474b-a3dd-b7ba02831b9a",
   "metadata": {},
   "outputs": [],
   "source": []
  }
 ],
 "metadata": {
  "kernelspec": {
   "display_name": "Python 3 (ipykernel)",
   "language": "python",
   "name": "python3"
  },
  "language_info": {
   "codemirror_mode": {
    "name": "ipython",
    "version": 3
   },
   "file_extension": ".py",
   "mimetype": "text/x-python",
   "name": "python",
   "nbconvert_exporter": "python",
   "pygments_lexer": "ipython3",
   "version": "3.9.7"
  }
 },
 "nbformat": 4,
 "nbformat_minor": 5
}
