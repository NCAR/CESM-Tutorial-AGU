{
 "cells": [
  {
   "cell_type": "markdown",
   "id": "f406f992-92bd-4b17-9bd3-b99c5c8abaf3",
   "metadata": {},
   "source": [
    "# CESM output"
   ]
  },
  {
   "cell_type": "markdown",
   "id": "c0c604b9-565b-4b87-a18a-20c9e3f688b2",
   "metadata": {},
   "source": [
    "While CESM is running, the history files that contain the output variables are located in the run directory.  Once a segment of simulation has finished running, they are then archived in the archive directory (Fig. 1)"
   ]
  },
  {
   "cell_type": "markdown",
   "id": "bed93252-5d5d-46ab-a965-999bc4f4655f",
   "metadata": {},
   "source": [
    "\n",
    "![xmlfiles](../../images/cesm_structure_output.png)\n",
    "*<p style=\"text-align: center;\"> Figure 1: CESM structure and the location of the output</p>*\n"
   ]
  },
  {
   "cell_type": "markdown",
   "id": "ab69c95b-413e-4ee4-908e-feee3acee74a",
   "metadata": {},
   "source": [
    "Each component can output a number of **history files** that contain different frequencies of data.  The variables and frequencies that are output can be controlled by the CAM namelist (see [Namelist section](https://ncar.github.io/CESM-Tutorial-WCRP/notebooks/06.Namelist/title.html)). The format of the output is netCDF files. \n",
    "\n",
    "## netcdf files\n",
    "\n",
    "NetCDF files are a flexible and efficient format that enables organized and standardized data storage for complex scientific datasets. \n",
    "\n",
    "NetCDF files contain a header which provides a brief summary of the data in the file, such as variable names, dimensions, and other metadata.  \n",
    "\n",
    "The following command\n",
    "\n",
    "```\n",
    "ncdump -h file.nc\n",
    "```\n",
    "\n",
    "gives a quick view of the header of `file.nc`.  There can be a lot of information in these files so you can also send the output to the `more` or `less` commands (see the linux overview) e.g.,\n",
    "\n",
    "```\n",
    "ncdump -h file.nc | more\n",
    "```\n",
    "\n",
    "Then you can press `return` or `space` to scroll through the output.  This can give you a quick view of what's in the output files and an example of the output from this command on a cam history file is shown in Figure 2."
   ]
  },
  {
   "cell_type": "markdown",
   "id": "68c79c22-bc09-4ab0-92ff-887618f5c61f",
   "metadata": {},
   "source": [
    "\n",
    "![xmlfiles](../../images/ncdump_example.png)\n",
    "*<p style=\"text-align: center;\"> Figure 2: An example of the output of the `ncdump -h` command.  <br> A list of dimensions is seen followed by variables and associated metadata</p>*\n"
   ]
  },
  {
   "cell_type": "markdown",
   "id": "6c1b1f36-8a9b-41be-aad1-0780559f2f79",
   "metadata": {},
   "source": []
  }
 ],
 "metadata": {
  "kernelspec": {
   "display_name": "Python 3 (ipykernel)",
   "language": "python",
   "name": "python3"
  },
  "language_info": {
   "codemirror_mode": {
    "name": "ipython",
    "version": 3
   },
   "file_extension": ".py",
   "mimetype": "text/x-python",
   "name": "python",
   "nbconvert_exporter": "python",
   "pygments_lexer": "ipython3",
   "version": "3.9.12"
  }
 },
 "nbformat": 4,
 "nbformat_minor": 5
}
