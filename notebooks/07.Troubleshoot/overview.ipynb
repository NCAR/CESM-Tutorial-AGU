{
 "cells": [
  {
   "cell_type": "markdown",
   "id": "6fbf6a41-0a72-4d87-8250-0b4d19f33146",
   "metadata": {},
   "source": [
    "# Overview\n",
    "\n",
    "## Troubleshooting"
   ]
  },
  {
   "cell_type": "markdown",
   "id": "c0c604b9-565b-4b87-a18a-20c9e3f688b2",
   "metadata": {},
   "source": [
    "Sometimes the model will crash and you will need to familiarize yourself with how to find out what went wrong.  The place to start is with the **log files**.  These exist in the run directory while the simulation is running and will stay there when a simulation crashes.  If the simulation successfully completes, then the log files will be moved into the `logs` directory within your case directory.  If your run crashes you'll, therefore, need to examine the log files in your run directory (Figure 1)"
   ]
  },
  {
   "cell_type": "markdown",
   "id": "24daa20b-d5b5-4147-9795-748433b86bf5",
   "metadata": {},
   "source": [
    "\n",
    "![xmlfiles](../../images/cesm_structure_logfiles.png)\n",
    "*<p style=\"text-align: center;\"> Figure 1: CESM structure and the location of the log files</p>*\n"
   ]
  },
  {
   "cell_type": "markdown",
   "id": "5ed36e2e-64a4-4ffa-8e74-27cb52c90da9",
   "metadata": {},
   "source": [
    "## How to find out if your simulation has crashed? \n",
    "\n",
    "If your job is no longer in the queue and you want to determine whether it has run successfully are not, there are a number of approaches you can take:\n",
    "\n",
    "- Check whether you see history files in the archive directory.  If not, and you think there should be, your simulation has probably crashed.\n",
    "- Check whether restart files and rpointer files have been created in the run directory for the name of your simulation at the time you think it should have ended.\n",
    "- Examine the contents of the `CaseStatus` file within your case directory.  Check if the recent entries suggest the model has successfully completed and archived the history files by saying something like `case.run success`, `st_archive success`."
   ]
  },
  {
   "cell_type": "markdown",
   "id": "d713f37f-c585-4b2c-b63d-b34b9c55e146",
   "metadata": {},
   "source": [
    "## What to do if your simulation has crashed?\n",
    "\n",
    "If your simulation has crashed, you should examine the contents of the log files in the run directory.  When a run has crashed, typically log files will be created of the form\n",
    "\n",
    "`cesm.log.*` \\\n",
    "`atm.log.*` \\\n",
    "`cpl.log.*` \n",
    "\n",
    "etc i.e., a log file for cesm as a whole, for the atmosphere, for the coupler, and so on, where the `*` will be some numbers or letters specific to your case.\n",
    "\n",
    "Somewhere within these log files is information on what has gone wrong, but it is often not entirely straightforward to find.  Often at the bottom of the log files, there are errors that are not related to your problem because they are just demonstrating that individual processes are exiting.  Often the relevant error lies above this and can sometimes be found by searching for the first occurrence of `ERROR` or `ABORT` or `cesm.exe`.\n",
    "\n",
    "It can often be useful to see which log files were created most recently e.g., if you do \n",
    "\n",
    "`ls -ltr *log*`\n",
    "\n",
    "from the run directory, you can see which log files were most recently created.  You can examine the cesm log and then the component log which was most recently created to search for what has gone wrong. "
   ]
  },
  {
   "cell_type": "code",
   "execution_count": null,
   "id": "2171ecd2-9198-4df1-9b65-31e10bebbdfd",
   "metadata": {},
   "outputs": [],
   "source": []
  }
 ],
 "metadata": {
  "kernelspec": {
   "display_name": "Python 3 (ipykernel)",
   "language": "python",
   "name": "python3"
  },
  "language_info": {
   "codemirror_mode": {
    "name": "ipython",
    "version": 3
   },
   "file_extension": ".py",
   "mimetype": "text/x-python",
   "name": "python",
   "nbconvert_exporter": "python",
   "pygments_lexer": "ipython3",
   "version": "3.9.12"
  }
 },
 "nbformat": 4,
 "nbformat_minor": 5
}
