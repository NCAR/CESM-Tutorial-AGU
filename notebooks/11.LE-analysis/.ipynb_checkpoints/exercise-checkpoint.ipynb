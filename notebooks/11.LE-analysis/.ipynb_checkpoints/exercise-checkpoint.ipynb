{
 "cells": [
  {
   "cell_type": "markdown",
   "id": "f406f992-92bd-4b17-9bd3-b99c5c8abaf3",
   "metadata": {},
   "source": [
    "# Exercises"
   ]
  },
  {
   "cell_type": "markdown",
   "id": "b90d4773-7ca0-4131-ab07-517608a3e976",
   "metadata": {},
   "source": [
    "\n",
    "<div class=\"alert alert-info\">\n",
    "    \n",
    "<strong>Exercise: Setting up and running your first case</strong>\n",
    "    \n",
    "In the directory, you have the `~/analysis_notebooks/lens/`, you have the opportunity to look at maps of temperature and precipitation of the CESM2 large-ensemble using the notebooks\n",
    "- `plot_precipitation.ipynb`  \n",
    "- `plot_temperature.ipynb`\n",
    "\n",
    "as shown in Figure 1.\n",
    "___\n",
    "![LENS2_notebooks](../../images/lens2_notebooks.png)\n",
    "\n",
    "*<p style=\"text-align: center;\"> Figure 1: Notebooks to look at LENS2 Temperature and Precipitation. </p>*\n",
    "___\n",
    "   \n",
    "For instance, you can look at maps of temperatures: \n",
    "___\n",
    "![LENS2_notebooks](../../images/lens2_ens_T.png)\n",
    "\n",
    "*<p style=\"text-align: center;\"> Figure 1: Map os Temperature for different ensemblesn. </p>*\n",
    "___\n",
    "    \n",
    "</div>\n"
   ]
  },
  {
   "cell_type": "code",
   "execution_count": null,
   "id": "815be0bc-515a-474b-a3dd-b7ba02831b9a",
   "metadata": {},
   "outputs": [],
   "source": []
  }
 ],
 "metadata": {
  "kernelspec": {
   "display_name": "Python 3 (ipykernel)",
   "language": "python",
   "name": "python3"
  },
  "language_info": {
   "codemirror_mode": {
    "name": "ipython",
    "version": 3
   },
   "file_extension": ".py",
   "mimetype": "text/x-python",
   "name": "python",
   "nbconvert_exporter": "python",
   "pygments_lexer": "ipython3",
   "version": "3.9.12"
  }
 },
 "nbformat": 4,
 "nbformat_minor": 5
}
