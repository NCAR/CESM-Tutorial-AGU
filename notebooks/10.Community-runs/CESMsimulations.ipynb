{
 "cells": [
  {
   "cell_type": "markdown",
   "id": "f406f992-92bd-4b17-9bd3-b99c5c8abaf3",
   "metadata": {},
   "source": [
    "# CESM simulations"
   ]
  },
  {
   "cell_type": "markdown",
   "id": "c0c604b9-565b-4b87-a18a-20c9e3f688b2",
   "metadata": {},
   "source": [
    "The CESM working groups produce many large datasets that can be used for analysis of long-term climate projections and other aspects of Earth System Predictability.  You can become aware of new datasets by joining the mailing lists for the CESM working groups. \n",
    "\n",
    "## Where to get the data\n",
    "\n",
    "Existing simulations with CESM can be downloaded from NCAR's Climate Data Gateway: https://www.earthsystemgrid.org/\n",
    "\n",
    "In addition, you can find out more information on simulations produced by the CESM climate variability and change working group and the earth system prediction working group on the webpages of those working groups:\n",
    "\n",
    "* Climate variability and change: https://www.cesm.ucar.edu/working-groups/climate\n",
    "\n",
    "* Earth System Prediction: https://www.cesm.ucar.edu/working-groups/earth-system\n",
    "\n",
    "## Recent dataset examples\n",
    "\n",
    "* **The CESM2 large ensemble** is a 100 member ensemble of coupled simulations extending from 1850 to 2100 under CMIP6 historical forcings prior to 2014 and SSP3-7.0 forcings thereafter: https://www.cesm.ucar.edu/community-projects/lens2\n",
    "\n",
    "* **The CESM2 single forcing large ensemble** complements the CESM2 large ensemble by providing 15+ member ensembles from 1850 to 2050 under individual forcings (or combinations of forcings) with other forcings held fixed at 1850's values i.e., greenhouse gases only, anthropogenic aerosols only, biomass burning aerosols only, and then all other forcings not represented by those three: https://www.cesm.ucar.edu/working-groups/climate/simulations/cesm2-single-forcing-le\n",
    "\n",
    "* **The CESM2 SMYLE** (Single-to-Multi-year Large Ensemble) consists of 24 month simulations initialized from observation based states on 1st of Feb, May, Aug, and Nov from 1970 to 2019 and provides the opportuinity to explore predictability on subseasonal to multi-year timescales: https://www.cesm.ucar.edu/working-groups/earth-system/simulations/smyle"
   ]
  },
  {
   "cell_type": "code",
   "execution_count": null,
   "id": "8dae7244-9e74-479a-a7bc-8622434412ad",
   "metadata": {},
   "outputs": [],
   "source": []
  }
 ],
 "metadata": {
  "kernelspec": {
   "display_name": "Python 3 (ipykernel)",
   "language": "python",
   "name": "python3"
  },
  "language_info": {
   "codemirror_mode": {
    "name": "ipython",
    "version": 3
   },
   "file_extension": ".py",
   "mimetype": "text/x-python",
   "name": "python",
   "nbconvert_exporter": "python",
   "pygments_lexer": "ipython3",
   "version": "3.9.12"
  }
 },
 "nbformat": 4,
 "nbformat_minor": 5
}
