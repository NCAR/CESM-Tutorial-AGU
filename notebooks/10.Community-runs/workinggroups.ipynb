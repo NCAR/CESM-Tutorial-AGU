{
 "cells": [
  {
   "cell_type": "markdown",
   "id": "f406f992-92bd-4b17-9bd3-b99c5c8abaf3",
   "metadata": {},
   "source": [
    "# CESM working groups"
   ]
  },
  {
   "cell_type": "markdown",
   "id": "c0c604b9-565b-4b87-a18a-20c9e3f688b2",
   "metadata": {},
   "source": [
    "The CESM community consists of a number of working groups as illustrated in Figure 1.  CESM developers and users from within NCAR and from the broader research community participate in these working groups.  These working groups can be roughly divided into two categories: those that work on developing CESM and its individual components, and those that are more focussed on producing CESM simulations for the broader community to use (e.g., Climate variability and change and Earth System Prediction).   \n",
    "\n",
    "CESM working groups provide an opportunity for you to learn about new CESM-related activities and developments and they are a chance for you to get actively involved in CESM science.  The working groups meet at least twice a year.  Once in June during the CESM workshop and another time during the winter for the winter working group meetings.  These events are hybrid events so there is opportunity to participate remotely.\n",
    "\n",
    "More information on the working groups can be found here: https://www.cesm.ucar.edu/working-groups\n",
    "\n",
    "You can join working group mailing lists as well as general CESM mailing lists here: https://mailman.cgd.ucar.edu/\n",
    "\n",
    "Information on upcoming workshops can be found here: https://www.cesm.ucar.edu/events/workshops\n",
    "\n",
    "![create_newcase](../../images/workinggroups.png)\n",
    "*<p style=\"text-align: center;\"> Figure 1: Illustration of the CESM working groups</p>*"
   ]
  },
  {
   "cell_type": "markdown",
   "id": "9eae05d0-5c65-48f7-93e8-ee30b746c211",
   "metadata": {},
   "source": []
  },
  {
   "cell_type": "code",
   "execution_count": null,
   "id": "8dae7244-9e74-479a-a7bc-8622434412ad",
   "metadata": {},
   "outputs": [],
   "source": []
  }
 ],
 "metadata": {
  "kernelspec": {
   "display_name": "Python 3 (ipykernel)",
   "language": "python",
   "name": "python3"
  },
  "language_info": {
   "codemirror_mode": {
    "name": "ipython",
    "version": 3
   },
   "file_extension": ".py",
   "mimetype": "text/x-python",
   "name": "python",
   "nbconvert_exporter": "python",
   "pygments_lexer": "ipython3",
   "version": "3.9.7"
  }
 },
 "nbformat": 4,
 "nbformat_minor": 5
}
