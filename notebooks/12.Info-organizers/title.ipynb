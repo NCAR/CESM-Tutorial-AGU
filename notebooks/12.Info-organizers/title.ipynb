{
 "cells": [
  {
   "cell_type": "markdown",
   "id": "f406f992-92bd-4b17-9bd3-b99c5c8abaf3",
   "metadata": {},
   "source": [
    "# Info for organizers"
   ]
  },
  {
   "cell_type": "markdown",
   "id": "c0c604b9-565b-4b87-a18a-20c9e3f688b2",
   "metadata": {},
   "source": [
    "This section provides useful information for organizers during the tutorial's development and afterward. \n",
    "\n",
    "[Shared Google Drive](https://drive.google.com/drive/folders/1c3NKSmSWw_j3UOc1BAih_tqXdYAtOVC8?usp=drive_link)\n",
    "\n",
    "**Access to this drive is limited to tutorial organizers.**\n",
    "\n"
   ]
  }
 ],
 "metadata": {
  "kernelspec": {
   "display_name": "Python 3 (ipykernel)",
   "language": "python",
   "name": "python3"
  },
  "language_info": {
   "codemirror_mode": {
    "name": "ipython",
    "version": 3
   },
   "file_extension": ".py",
   "mimetype": "text/x-python",
   "name": "python",
   "nbconvert_exporter": "python",
   "pygments_lexer": "ipython3",
   "version": "3.9.12"
  }
 },
 "nbformat": 4,
 "nbformat_minor": 5
}
